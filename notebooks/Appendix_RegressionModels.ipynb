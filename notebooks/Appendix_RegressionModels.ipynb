{
  "cells": [
    {
      "cell_type": "markdown",
      "metadata": {
        "id": "n0C2tUi3bGwr"
      },
      "source": [
        "# Linear Regressions and Simple Prediction Modeling using OLS **\n",
        "**In this tutorial we show how Python and its  statsmodels library can be used to run Linear Regressions and Predictions for two exemplar models**\n",
        "\n",
        "Session 3 | CK"
      ]
    },
    {
      "cell_type": "markdown",
      "metadata": {
        "id": "63NI0az3nZ0U"
      },
      "source": [
        "## **Part A: Steps to Run Linear Regressions**"
      ]
    },
    {
      "cell_type": "markdown",
      "metadata": {
        "id": "Pr3JeloZcZyX"
      },
      "source": [
        "###**Step 1. Load libraries**"
      ]
    },
    {
      "cell_type": "code",
      "execution_count": 1,
      "metadata": {
        "colab": {
          "base_uri": "https://localhost:8080/"
        },
        "id": "hbVa0fkrUvxj",
        "jupyter": {
          "is_executing": true
        },
        "outputId": "e94b7dbd-751f-466c-dd1d-9b483bc71d39"
      },
      "outputs": [
        {
          "name": "stdout",
          "output_type": "stream",
          "text": [
            "Collecting statsmodels\n",
            "  Downloading statsmodels-0.14.5-cp313-cp313-win_amd64.whl.metadata (9.8 kB)\n",
            "Requirement already satisfied: numpy<3,>=1.22.3 in c:\\users\\kalig\\appdata\\local\\programs\\python\\python313\\lib\\site-packages (from statsmodels) (2.2.4)\n",
            "Requirement already satisfied: scipy!=1.9.2,>=1.8 in c:\\users\\kalig\\appdata\\local\\programs\\python\\python313\\lib\\site-packages (from statsmodels) (1.15.2)\n",
            "Requirement already satisfied: pandas!=2.1.0,>=1.4 in c:\\users\\kalig\\appdata\\local\\programs\\python\\python313\\lib\\site-packages (from statsmodels) (2.2.3)\n",
            "Collecting patsy>=0.5.6 (from statsmodels)\n",
            "  Using cached patsy-1.0.1-py2.py3-none-any.whl.metadata (3.3 kB)\n",
            "Requirement already satisfied: packaging>=21.3 in c:\\users\\kalig\\appdata\\local\\programs\\python\\python313\\lib\\site-packages (from statsmodels) (24.2)\n",
            "Requirement already satisfied: python-dateutil>=2.8.2 in c:\\users\\kalig\\appdata\\local\\programs\\python\\python313\\lib\\site-packages (from pandas!=2.1.0,>=1.4->statsmodels) (2.9.0.post0)\n",
            "Requirement already satisfied: pytz>=2020.1 in c:\\users\\kalig\\appdata\\local\\programs\\python\\python313\\lib\\site-packages (from pandas!=2.1.0,>=1.4->statsmodels) (2025.1)\n",
            "Requirement already satisfied: tzdata>=2022.7 in c:\\users\\kalig\\appdata\\local\\programs\\python\\python313\\lib\\site-packages (from pandas!=2.1.0,>=1.4->statsmodels) (2025.1)\n",
            "Requirement already satisfied: six>=1.5 in c:\\users\\kalig\\appdata\\local\\programs\\python\\python313\\lib\\site-packages (from python-dateutil>=2.8.2->pandas!=2.1.0,>=1.4->statsmodels) (1.17.0)\n",
            "Downloading statsmodels-0.14.5-cp313-cp313-win_amd64.whl (9.6 MB)\n",
            "   ---------------------------------------- 0.0/9.6 MB ? eta -:--:--\n",
            "   ------------------- -------------------- 4.7/9.6 MB 23.2 MB/s eta 0:00:01\n",
            "   ---------------------------------------  9.4/9.6 MB 24.6 MB/s eta 0:00:01\n",
            "   ---------------------------------------- 9.6/9.6 MB 20.2 MB/s eta 0:00:00\n",
            "Using cached patsy-1.0.1-py2.py3-none-any.whl (232 kB)\n",
            "Installing collected packages: patsy, statsmodels\n",
            "Successfully installed patsy-1.0.1 statsmodels-0.14.5\n"
          ]
        },
        {
          "name": "stderr",
          "output_type": "stream",
          "text": [
            "\n",
            "[notice] A new release of pip is available: 25.0.1 -> 25.1.1\n",
            "[notice] To update, run: python.exe -m pip install --upgrade pip\n"
          ]
        }
      ],
      "source": [
        "# If you have not previously installed non-default libraries, use this command to do so:\n",
        "# NOTE: You only have to do this once\n",
        "%pip install statsmodels"
      ]
    },
    {
      "cell_type": "code",
      "execution_count": 2,
      "metadata": {
        "id": "4B8X0ylHbH1m"
      },
      "outputs": [],
      "source": [
        "import pandas as pd # for data operations\n",
        "import numpy as np #most of the mathematical functions we'll need\n",
        "import seaborn as sns #to plot\n",
        "import matplotlib.pyplot as plt #to plot\n",
        "import statsmodels.api as sm #for statistical analysis"
      ]
    },
    {
      "cell_type": "markdown",
      "metadata": {
        "id": "vM1DdjAin9o3"
      },
      "source": [
        "###**Step 2. Load Data**"
      ]
    },
    {
      "cell_type": "markdown",
      "metadata": {
        "id": "sz7pel0on5sd"
      },
      "source": [
        "\n",
        "Note: I'm providing cleaned data for class. In other cases with external data, you will have to clean your data.\n"
      ]
    },
    {
      "cell_type": "code",
      "execution_count": 3,
      "metadata": {
        "id": "7ojthsZBcKi_"
      },
      "outputs": [],
      "source": [
        "url = \"https://www.dropbox.com/s/oewvalvdxx7bjez/taxi_data.csv?dl=1\" # url=\"/*insert url to your own data here*/\""
      ]
    },
    {
      "cell_type": "code",
      "execution_count": 4,
      "metadata": {
        "colab": {
          "base_uri": "https://localhost:8080/"
        },
        "id": "nlv9FQ7kdBE9",
        "outputId": "9d4c6cd2-6a25-49d6-d20d-1f523a73ea5c"
      },
      "outputs": [
        {
          "data": {
            "text/plain": [
              "(490347, 19)"
            ]
          },
          "execution_count": 4,
          "metadata": {},
          "output_type": "execute_result"
        }
      ],
      "source": [
        "df = pd.read_csv(url,low_memory=False) # this code is what reads the csv and turns it into a dataframe. df for short\n",
        "\n",
        "df.shape # output the shape of the file\n"
      ]
    },
    {
      "cell_type": "code",
      "execution_count": 5,
      "metadata": {
        "colab": {
          "base_uri": "https://localhost:8080/",
          "height": 423
        },
        "id": "ERN8xKDodD5a",
        "outputId": "909be6f1-09cb-40b1-e88e-aa62b4b5460a"
      },
      "outputs": [
        {
          "data": {
            "text/html": [
              "<div>\n",
              "<style scoped>\n",
              "    .dataframe tbody tr th:only-of-type {\n",
              "        vertical-align: middle;\n",
              "    }\n",
              "\n",
              "    .dataframe tbody tr th {\n",
              "        vertical-align: top;\n",
              "    }\n",
              "\n",
              "    .dataframe thead th {\n",
              "        text-align: right;\n",
              "    }\n",
              "</style>\n",
              "<table border=\"1\" class=\"dataframe\">\n",
              "  <thead>\n",
              "    <tr style=\"text-align: right;\">\n",
              "      <th></th>\n",
              "      <th>Sl No.</th>\n",
              "      <th>vendor_id</th>\n",
              "      <th>pickup_datetime</th>\n",
              "      <th>dropoff_datetime</th>\n",
              "      <th>passenger_count</th>\n",
              "      <th>trip_distance</th>\n",
              "      <th>pickup_longitude</th>\n",
              "      <th>pickup_latitude</th>\n",
              "      <th>rate_code</th>\n",
              "      <th>store_and_fwd_flag</th>\n",
              "      <th>dropoff_longitude</th>\n",
              "      <th>dropoff_latitude</th>\n",
              "      <th>payment_type</th>\n",
              "      <th>fare_amount</th>\n",
              "      <th>surcharge</th>\n",
              "      <th>mta_tax</th>\n",
              "      <th>tip_amount</th>\n",
              "      <th>tolls_amount</th>\n",
              "      <th>total_amount</th>\n",
              "    </tr>\n",
              "  </thead>\n",
              "  <tbody>\n",
              "    <tr>\n",
              "      <th>0</th>\n",
              "      <td>0</td>\n",
              "      <td>VTS</td>\n",
              "      <td>14-05-13 18:31</td>\n",
              "      <td>14-05-13 19:18</td>\n",
              "      <td>1</td>\n",
              "      <td>17.47</td>\n",
              "      <td>-74.004052</td>\n",
              "      <td>40.742767</td>\n",
              "      <td>2</td>\n",
              "      <td>NaN</td>\n",
              "      <td>-73.782580</td>\n",
              "      <td>40.644107</td>\n",
              "      <td>CSH</td>\n",
              "      <td>52.0</td>\n",
              "      <td>0.0</td>\n",
              "      <td>0.5</td>\n",
              "      <td>0.00</td>\n",
              "      <td>0.0</td>\n",
              "      <td>52.50</td>\n",
              "    </tr>\n",
              "    <tr>\n",
              "      <th>1</th>\n",
              "      <td>1</td>\n",
              "      <td>VTS</td>\n",
              "      <td>14-05-13 19:24</td>\n",
              "      <td>14-05-13 19:34</td>\n",
              "      <td>2</td>\n",
              "      <td>1.60</td>\n",
              "      <td>0.000000</td>\n",
              "      <td>73.971158</td>\n",
              "      <td>1</td>\n",
              "      <td>NaN</td>\n",
              "      <td>-73.979937</td>\n",
              "      <td>40.780360</td>\n",
              "      <td>CSH</td>\n",
              "      <td>8.5</td>\n",
              "      <td>1.0</td>\n",
              "      <td>0.5</td>\n",
              "      <td>0.00</td>\n",
              "      <td>0.0</td>\n",
              "      <td>10.00</td>\n",
              "    </tr>\n",
              "    <tr>\n",
              "      <th>2</th>\n",
              "      <td>2</td>\n",
              "      <td>VTS</td>\n",
              "      <td>14-05-13 19:57</td>\n",
              "      <td>14-05-13 20:01</td>\n",
              "      <td>2</td>\n",
              "      <td>1.10</td>\n",
              "      <td>0.000000</td>\n",
              "      <td>0.000000</td>\n",
              "      <td>1</td>\n",
              "      <td>NaN</td>\n",
              "      <td>0.000000</td>\n",
              "      <td>0.000000</td>\n",
              "      <td>CRD</td>\n",
              "      <td>5.5</td>\n",
              "      <td>1.0</td>\n",
              "      <td>0.5</td>\n",
              "      <td>1.25</td>\n",
              "      <td>0.0</td>\n",
              "      <td>8.25</td>\n",
              "    </tr>\n",
              "    <tr>\n",
              "      <th>3</th>\n",
              "      <td>3</td>\n",
              "      <td>VTS</td>\n",
              "      <td>14-05-13 05:46</td>\n",
              "      <td>14-05-13 05:56</td>\n",
              "      <td>1</td>\n",
              "      <td>4.71</td>\n",
              "      <td>-73.975142</td>\n",
              "      <td>40.745937</td>\n",
              "      <td>1</td>\n",
              "      <td>NaN</td>\n",
              "      <td>-74.003527</td>\n",
              "      <td>40.710815</td>\n",
              "      <td>CSH</td>\n",
              "      <td>15.5</td>\n",
              "      <td>0.5</td>\n",
              "      <td>0.5</td>\n",
              "      <td>0.00</td>\n",
              "      <td>0.0</td>\n",
              "      <td>16.50</td>\n",
              "    </tr>\n",
              "    <tr>\n",
              "      <th>4</th>\n",
              "      <td>4</td>\n",
              "      <td>VTS</td>\n",
              "      <td>14-05-13 05:50</td>\n",
              "      <td>14-05-13 05:57</td>\n",
              "      <td>1</td>\n",
              "      <td>1.41</td>\n",
              "      <td>0.000000</td>\n",
              "      <td>0.000000</td>\n",
              "      <td>1</td>\n",
              "      <td>NaN</td>\n",
              "      <td>0.000000</td>\n",
              "      <td>0.000000</td>\n",
              "      <td>CRD</td>\n",
              "      <td>7.0</td>\n",
              "      <td>0.5</td>\n",
              "      <td>0.5</td>\n",
              "      <td>1.00</td>\n",
              "      <td>0.0</td>\n",
              "      <td>9.00</td>\n",
              "    </tr>\n",
              "    <tr>\n",
              "      <th>...</th>\n",
              "      <td>...</td>\n",
              "      <td>...</td>\n",
              "      <td>...</td>\n",
              "      <td>...</td>\n",
              "      <td>...</td>\n",
              "      <td>...</td>\n",
              "      <td>...</td>\n",
              "      <td>...</td>\n",
              "      <td>...</td>\n",
              "      <td>...</td>\n",
              "      <td>...</td>\n",
              "      <td>...</td>\n",
              "      <td>...</td>\n",
              "      <td>...</td>\n",
              "      <td>...</td>\n",
              "      <td>...</td>\n",
              "      <td>...</td>\n",
              "      <td>...</td>\n",
              "      <td>...</td>\n",
              "    </tr>\n",
              "    <tr>\n",
              "      <th>490342</th>\n",
              "      <td>490342</td>\n",
              "      <td>CMT</td>\n",
              "      <td>14-05-13 20:32</td>\n",
              "      <td>14-05-13 20:38</td>\n",
              "      <td>1</td>\n",
              "      <td>1.50</td>\n",
              "      <td>-73.991023</td>\n",
              "      <td>40.745509</td>\n",
              "      <td>1</td>\n",
              "      <td>N</td>\n",
              "      <td>-73.973146</td>\n",
              "      <td>40.752741</td>\n",
              "      <td>CSH</td>\n",
              "      <td>7.0</td>\n",
              "      <td>0.5</td>\n",
              "      <td>0.5</td>\n",
              "      <td>0.00</td>\n",
              "      <td>0.0</td>\n",
              "      <td>8.00</td>\n",
              "    </tr>\n",
              "    <tr>\n",
              "      <th>490343</th>\n",
              "      <td>490343</td>\n",
              "      <td>CMT</td>\n",
              "      <td>14-05-13 20:43</td>\n",
              "      <td>14-05-13 20:43</td>\n",
              "      <td>1</td>\n",
              "      <td>1.50</td>\n",
              "      <td>-74.007035</td>\n",
              "      <td>40.705442</td>\n",
              "      <td>1</td>\n",
              "      <td>N</td>\n",
              "      <td>-73.992735</td>\n",
              "      <td>40.723427</td>\n",
              "      <td>CSH</td>\n",
              "      <td>9.0</td>\n",
              "      <td>0.5</td>\n",
              "      <td>0.5</td>\n",
              "      <td>0.00</td>\n",
              "      <td>0.0</td>\n",
              "      <td>10.00</td>\n",
              "    </tr>\n",
              "    <tr>\n",
              "      <th>490344</th>\n",
              "      <td>490344</td>\n",
              "      <td>CMT</td>\n",
              "      <td>14-05-13 20:35</td>\n",
              "      <td>14-05-13 20:37</td>\n",
              "      <td>1</td>\n",
              "      <td>1.00</td>\n",
              "      <td>-74.007057</td>\n",
              "      <td>40.729581</td>\n",
              "      <td>1</td>\n",
              "      <td>N</td>\n",
              "      <td>-74.010143</td>\n",
              "      <td>40.719790</td>\n",
              "      <td>CSH</td>\n",
              "      <td>5.5</td>\n",
              "      <td>0.5</td>\n",
              "      <td>0.5</td>\n",
              "      <td>0.00</td>\n",
              "      <td>0.0</td>\n",
              "      <td>6.50</td>\n",
              "    </tr>\n",
              "    <tr>\n",
              "      <th>490345</th>\n",
              "      <td>490345</td>\n",
              "      <td>CMT</td>\n",
              "      <td>14-05-13 20:35</td>\n",
              "      <td>14-05-13 20:35</td>\n",
              "      <td>1</td>\n",
              "      <td>0.80</td>\n",
              "      <td>-73.987804</td>\n",
              "      <td>40.737485</td>\n",
              "      <td>1</td>\n",
              "      <td>N</td>\n",
              "      <td>-74.001923</td>\n",
              "      <td>40.743530</td>\n",
              "      <td>CSH</td>\n",
              "      <td>5.0</td>\n",
              "      <td>0.5</td>\n",
              "      <td>0.5</td>\n",
              "      <td>0.00</td>\n",
              "      <td>0.0</td>\n",
              "      <td>6.00</td>\n",
              "    </tr>\n",
              "    <tr>\n",
              "      <th>490346</th>\n",
              "      <td>490346</td>\n",
              "      <td>CMT</td>\n",
              "      <td>14-05-13 20:39</td>\n",
              "      <td>14-05-13 20:39</td>\n",
              "      <td>1</td>\n",
              "      <td>4.60</td>\n",
              "      <td>-73.998985</td>\n",
              "      <td>40.744500</td>\n",
              "      <td>1</td>\n",
              "      <td>N</td>\n",
              "      <td>-73.947880</td>\n",
              "      <td>40.776088</td>\n",
              "      <td>CSH</td>\n",
              "      <td>14.5</td>\n",
              "      <td>0.5</td>\n",
              "      <td>0.5</td>\n",
              "      <td>0.00</td>\n",
              "      <td>0.0</td>\n",
              "      <td>15.50</td>\n",
              "    </tr>\n",
              "  </tbody>\n",
              "</table>\n",
              "<p>490347 rows × 19 columns</p>\n",
              "</div>"
            ],
            "text/plain": [
              "        Sl No. vendor_id pickup_datetime dropoff_datetime  passenger_count  \\\n",
              "0            0       VTS  14-05-13 18:31   14-05-13 19:18                1   \n",
              "1            1       VTS  14-05-13 19:24   14-05-13 19:34                2   \n",
              "2            2       VTS  14-05-13 19:57   14-05-13 20:01                2   \n",
              "3            3       VTS  14-05-13 05:46   14-05-13 05:56                1   \n",
              "4            4       VTS  14-05-13 05:50   14-05-13 05:57                1   \n",
              "...        ...       ...             ...              ...              ...   \n",
              "490342  490342       CMT  14-05-13 20:32   14-05-13 20:38                1   \n",
              "490343  490343       CMT  14-05-13 20:43   14-05-13 20:43                1   \n",
              "490344  490344       CMT  14-05-13 20:35   14-05-13 20:37                1   \n",
              "490345  490345       CMT  14-05-13 20:35   14-05-13 20:35                1   \n",
              "490346  490346       CMT  14-05-13 20:39   14-05-13 20:39                1   \n",
              "\n",
              "        trip_distance  pickup_longitude  pickup_latitude  rate_code  \\\n",
              "0               17.47        -74.004052        40.742767          2   \n",
              "1                1.60          0.000000        73.971158          1   \n",
              "2                1.10          0.000000         0.000000          1   \n",
              "3                4.71        -73.975142        40.745937          1   \n",
              "4                1.41          0.000000         0.000000          1   \n",
              "...               ...               ...              ...        ...   \n",
              "490342           1.50        -73.991023        40.745509          1   \n",
              "490343           1.50        -74.007035        40.705442          1   \n",
              "490344           1.00        -74.007057        40.729581          1   \n",
              "490345           0.80        -73.987804        40.737485          1   \n",
              "490346           4.60        -73.998985        40.744500          1   \n",
              "\n",
              "       store_and_fwd_flag  dropoff_longitude  dropoff_latitude payment_type  \\\n",
              "0                     NaN         -73.782580         40.644107          CSH   \n",
              "1                     NaN         -73.979937         40.780360          CSH   \n",
              "2                     NaN           0.000000          0.000000          CRD   \n",
              "3                     NaN         -74.003527         40.710815          CSH   \n",
              "4                     NaN           0.000000          0.000000          CRD   \n",
              "...                   ...                ...               ...          ...   \n",
              "490342                  N         -73.973146         40.752741          CSH   \n",
              "490343                  N         -73.992735         40.723427          CSH   \n",
              "490344                  N         -74.010143         40.719790          CSH   \n",
              "490345                  N         -74.001923         40.743530          CSH   \n",
              "490346                  N         -73.947880         40.776088          CSH   \n",
              "\n",
              "        fare_amount  surcharge  mta_tax  tip_amount  tolls_amount  \\\n",
              "0              52.0        0.0      0.5        0.00           0.0   \n",
              "1               8.5        1.0      0.5        0.00           0.0   \n",
              "2               5.5        1.0      0.5        1.25           0.0   \n",
              "3              15.5        0.5      0.5        0.00           0.0   \n",
              "4               7.0        0.5      0.5        1.00           0.0   \n",
              "...             ...        ...      ...         ...           ...   \n",
              "490342          7.0        0.5      0.5        0.00           0.0   \n",
              "490343          9.0        0.5      0.5        0.00           0.0   \n",
              "490344          5.5        0.5      0.5        0.00           0.0   \n",
              "490345          5.0        0.5      0.5        0.00           0.0   \n",
              "490346         14.5        0.5      0.5        0.00           0.0   \n",
              "\n",
              "        total_amount  \n",
              "0              52.50  \n",
              "1              10.00  \n",
              "2               8.25  \n",
              "3              16.50  \n",
              "4               9.00  \n",
              "...              ...  \n",
              "490342          8.00  \n",
              "490343         10.00  \n",
              "490344          6.50  \n",
              "490345          6.00  \n",
              "490346         15.50  \n",
              "\n",
              "[490347 rows x 19 columns]"
            ]
          },
          "execution_count": 5,
          "metadata": {},
          "output_type": "execute_result"
        }
      ],
      "source": [
        "# see the head and tail of the data\n",
        "#df.head()\n",
        "#df.tail()\n",
        "df"
      ]
    },
    {
      "cell_type": "code",
      "execution_count": 6,
      "metadata": {
        "colab": {
          "base_uri": "https://localhost:8080/"
        },
        "id": "hLZ8OOS7o2fG",
        "outputId": "fae50eff-f094-4949-e3c4-55023feca25f"
      },
      "outputs": [
        {
          "name": "stdout",
          "output_type": "stream",
          "text": [
            "<class 'pandas.core.frame.DataFrame'>\n",
            "RangeIndex: 490347 entries, 0 to 490346\n",
            "Data columns (total 19 columns):\n",
            " #   Column              Non-Null Count   Dtype  \n",
            "---  ------              --------------   -----  \n",
            " 0   Sl No.              490347 non-null  int64  \n",
            " 1   vendor_id           490347 non-null  object \n",
            " 2   pickup_datetime     490347 non-null  object \n",
            " 3   dropoff_datetime    490347 non-null  object \n",
            " 4   passenger_count     490347 non-null  int64  \n",
            " 5   trip_distance       490347 non-null  float64\n",
            " 6   pickup_longitude    490347 non-null  float64\n",
            " 7   pickup_latitude     490347 non-null  float64\n",
            " 8   rate_code           490347 non-null  int64  \n",
            " 9   store_and_fwd_flag  246795 non-null  object \n",
            " 10  dropoff_longitude   490347 non-null  float64\n",
            " 11  dropoff_latitude    490347 non-null  float64\n",
            " 12  payment_type        490347 non-null  object \n",
            " 13  fare_amount         490347 non-null  float64\n",
            " 14  surcharge           490347 non-null  float64\n",
            " 15  mta_tax             490347 non-null  float64\n",
            " 16  tip_amount          490347 non-null  float64\n",
            " 17  tolls_amount        490347 non-null  float64\n",
            " 18  total_amount        490347 non-null  float64\n",
            "dtypes: float64(11), int64(3), object(5)\n",
            "memory usage: 71.1+ MB\n"
          ]
        }
      ],
      "source": [
        "df.info()"
      ]
    },
    {
      "cell_type": "code",
      "execution_count": 7,
      "metadata": {
        "colab": {
          "base_uri": "https://localhost:8080/"
        },
        "id": "NQlja9jTon2C",
        "outputId": "8b431281-d18f-4bd4-ef6b-d65bcda87ced"
      },
      "outputs": [
        {
          "data": {
            "text/plain": [
              "['Sl No.',\n",
              " 'vendor_id',\n",
              " 'pickup_datetime',\n",
              " 'dropoff_datetime',\n",
              " 'passenger_count',\n",
              " 'trip_distance',\n",
              " 'pickup_longitude',\n",
              " 'pickup_latitude',\n",
              " 'rate_code',\n",
              " 'store_and_fwd_flag',\n",
              " 'dropoff_longitude',\n",
              " 'dropoff_latitude',\n",
              " 'payment_type',\n",
              " 'fare_amount',\n",
              " 'surcharge',\n",
              " 'mta_tax',\n",
              " 'tip_amount',\n",
              " 'tolls_amount',\n",
              " 'total_amount']"
            ]
          },
          "execution_count": 7,
          "metadata": {},
          "output_type": "execute_result"
        }
      ],
      "source": [
        "list(df.columns)"
      ]
    },
    {
      "cell_type": "markdown",
      "metadata": {
        "id": "VK1aEe0GoIBb"
      },
      "source": [
        "Note: Additional step here to convert data types if needed (eg. string to categories, etc...)\n",
        "\n",
        "OR\n",
        "\n",
        "We just subselect / sample only numerical data"
      ]
    },
    {
      "cell_type": "code",
      "execution_count": 8,
      "metadata": {
        "id": "QT61EiJRWJBj"
      },
      "outputs": [],
      "source": [
        "# option 2: sampling only numerical data\n",
        "numerical_df = df.select_dtypes(include=np.number)"
      ]
    },
    {
      "cell_type": "code",
      "execution_count": 9,
      "metadata": {
        "colab": {
          "base_uri": "https://localhost:8080/",
          "height": 488
        },
        "id": "_aTiRxiSxA7P",
        "outputId": "c888c210-c5e8-4fa0-82c1-2726f99dac07"
      },
      "outputs": [
        {
          "data": {
            "text/html": [
              "<div>\n",
              "<style scoped>\n",
              "    .dataframe tbody tr th:only-of-type {\n",
              "        vertical-align: middle;\n",
              "    }\n",
              "\n",
              "    .dataframe tbody tr th {\n",
              "        vertical-align: top;\n",
              "    }\n",
              "\n",
              "    .dataframe thead th {\n",
              "        text-align: right;\n",
              "    }\n",
              "</style>\n",
              "<table border=\"1\" class=\"dataframe\">\n",
              "  <thead>\n",
              "    <tr style=\"text-align: right;\">\n",
              "      <th></th>\n",
              "      <th>Sl No.</th>\n",
              "      <th>passenger_count</th>\n",
              "      <th>trip_distance</th>\n",
              "      <th>pickup_longitude</th>\n",
              "      <th>pickup_latitude</th>\n",
              "      <th>rate_code</th>\n",
              "      <th>dropoff_longitude</th>\n",
              "      <th>dropoff_latitude</th>\n",
              "      <th>fare_amount</th>\n",
              "      <th>surcharge</th>\n",
              "      <th>mta_tax</th>\n",
              "      <th>tip_amount</th>\n",
              "      <th>tolls_amount</th>\n",
              "      <th>total_amount</th>\n",
              "    </tr>\n",
              "  </thead>\n",
              "  <tbody>\n",
              "    <tr>\n",
              "      <th>Sl No.</th>\n",
              "      <td>1.00</td>\n",
              "      <td>-0.28</td>\n",
              "      <td>-0.03</td>\n",
              "      <td>-0.04</td>\n",
              "      <td>0.04</td>\n",
              "      <td>-0.01</td>\n",
              "      <td>-0.04</td>\n",
              "      <td>0.04</td>\n",
              "      <td>-0.04</td>\n",
              "      <td>0.19</td>\n",
              "      <td>0.00</td>\n",
              "      <td>-0.12</td>\n",
              "      <td>-0.03</td>\n",
              "      <td>-0.05</td>\n",
              "    </tr>\n",
              "    <tr>\n",
              "      <th>passenger_count</th>\n",
              "      <td>-0.28</td>\n",
              "      <td>1.00</td>\n",
              "      <td>0.02</td>\n",
              "      <td>0.02</td>\n",
              "      <td>-0.03</td>\n",
              "      <td>-0.00</td>\n",
              "      <td>0.02</td>\n",
              "      <td>-0.03</td>\n",
              "      <td>0.01</td>\n",
              "      <td>0.01</td>\n",
              "      <td>0.01</td>\n",
              "      <td>-0.01</td>\n",
              "      <td>0.01</td>\n",
              "      <td>0.01</td>\n",
              "    </tr>\n",
              "    <tr>\n",
              "      <th>trip_distance</th>\n",
              "      <td>-0.03</td>\n",
              "      <td>0.02</td>\n",
              "      <td>1.00</td>\n",
              "      <td>-0.01</td>\n",
              "      <td>0.00</td>\n",
              "      <td>0.22</td>\n",
              "      <td>-0.01</td>\n",
              "      <td>0.01</td>\n",
              "      <td>0.85</td>\n",
              "      <td>-0.05</td>\n",
              "      <td>-0.11</td>\n",
              "      <td>0.47</td>\n",
              "      <td>0.58</td>\n",
              "      <td>0.85</td>\n",
              "    </tr>\n",
              "    <tr>\n",
              "      <th>pickup_longitude</th>\n",
              "      <td>-0.04</td>\n",
              "      <td>0.02</td>\n",
              "      <td>-0.01</td>\n",
              "      <td>1.00</td>\n",
              "      <td>-0.81</td>\n",
              "      <td>0.04</td>\n",
              "      <td>0.96</td>\n",
              "      <td>-0.82</td>\n",
              "      <td>0.01</td>\n",
              "      <td>-0.01</td>\n",
              "      <td>-0.04</td>\n",
              "      <td>0.01</td>\n",
              "      <td>-0.00</td>\n",
              "      <td>0.01</td>\n",
              "    </tr>\n",
              "    <tr>\n",
              "      <th>pickup_latitude</th>\n",
              "      <td>0.04</td>\n",
              "      <td>-0.03</td>\n",
              "      <td>0.00</td>\n",
              "      <td>-0.81</td>\n",
              "      <td>1.00</td>\n",
              "      <td>-0.02</td>\n",
              "      <td>-0.79</td>\n",
              "      <td>0.74</td>\n",
              "      <td>-0.01</td>\n",
              "      <td>0.01</td>\n",
              "      <td>0.03</td>\n",
              "      <td>-0.01</td>\n",
              "      <td>0.00</td>\n",
              "      <td>-0.01</td>\n",
              "    </tr>\n",
              "    <tr>\n",
              "      <th>rate_code</th>\n",
              "      <td>-0.01</td>\n",
              "      <td>-0.00</td>\n",
              "      <td>0.22</td>\n",
              "      <td>0.04</td>\n",
              "      <td>-0.02</td>\n",
              "      <td>1.00</td>\n",
              "      <td>0.04</td>\n",
              "      <td>-0.03</td>\n",
              "      <td>0.34</td>\n",
              "      <td>-0.06</td>\n",
              "      <td>-0.44</td>\n",
              "      <td>0.18</td>\n",
              "      <td>0.25</td>\n",
              "      <td>0.34</td>\n",
              "    </tr>\n",
              "    <tr>\n",
              "      <th>dropoff_longitude</th>\n",
              "      <td>-0.04</td>\n",
              "      <td>0.02</td>\n",
              "      <td>-0.01</td>\n",
              "      <td>0.96</td>\n",
              "      <td>-0.79</td>\n",
              "      <td>0.04</td>\n",
              "      <td>1.00</td>\n",
              "      <td>-0.82</td>\n",
              "      <td>0.02</td>\n",
              "      <td>-0.01</td>\n",
              "      <td>-0.04</td>\n",
              "      <td>0.01</td>\n",
              "      <td>-0.00</td>\n",
              "      <td>0.01</td>\n",
              "    </tr>\n",
              "    <tr>\n",
              "      <th>dropoff_latitude</th>\n",
              "      <td>0.04</td>\n",
              "      <td>-0.03</td>\n",
              "      <td>0.01</td>\n",
              "      <td>-0.82</td>\n",
              "      <td>0.74</td>\n",
              "      <td>-0.03</td>\n",
              "      <td>-0.82</td>\n",
              "      <td>1.00</td>\n",
              "      <td>-0.01</td>\n",
              "      <td>0.01</td>\n",
              "      <td>0.03</td>\n",
              "      <td>-0.01</td>\n",
              "      <td>0.00</td>\n",
              "      <td>-0.01</td>\n",
              "    </tr>\n",
              "    <tr>\n",
              "      <th>fare_amount</th>\n",
              "      <td>-0.04</td>\n",
              "      <td>0.01</td>\n",
              "      <td>0.85</td>\n",
              "      <td>0.01</td>\n",
              "      <td>-0.01</td>\n",
              "      <td>0.34</td>\n",
              "      <td>0.02</td>\n",
              "      <td>-0.01</td>\n",
              "      <td>1.00</td>\n",
              "      <td>-0.09</td>\n",
              "      <td>-0.28</td>\n",
              "      <td>0.54</td>\n",
              "      <td>0.60</td>\n",
              "      <td>0.98</td>\n",
              "    </tr>\n",
              "    <tr>\n",
              "      <th>surcharge</th>\n",
              "      <td>0.19</td>\n",
              "      <td>0.01</td>\n",
              "      <td>-0.05</td>\n",
              "      <td>-0.01</td>\n",
              "      <td>0.01</td>\n",
              "      <td>-0.06</td>\n",
              "      <td>-0.01</td>\n",
              "      <td>0.01</td>\n",
              "      <td>-0.09</td>\n",
              "      <td>1.00</td>\n",
              "      <td>0.04</td>\n",
              "      <td>-0.03</td>\n",
              "      <td>-0.07</td>\n",
              "      <td>-0.06</td>\n",
              "    </tr>\n",
              "    <tr>\n",
              "      <th>mta_tax</th>\n",
              "      <td>0.00</td>\n",
              "      <td>0.01</td>\n",
              "      <td>-0.11</td>\n",
              "      <td>-0.04</td>\n",
              "      <td>0.03</td>\n",
              "      <td>-0.44</td>\n",
              "      <td>-0.04</td>\n",
              "      <td>0.03</td>\n",
              "      <td>-0.28</td>\n",
              "      <td>0.04</td>\n",
              "      <td>1.00</td>\n",
              "      <td>-0.15</td>\n",
              "      <td>-0.25</td>\n",
              "      <td>-0.28</td>\n",
              "    </tr>\n",
              "    <tr>\n",
              "      <th>tip_amount</th>\n",
              "      <td>-0.12</td>\n",
              "      <td>-0.01</td>\n",
              "      <td>0.47</td>\n",
              "      <td>0.01</td>\n",
              "      <td>-0.01</td>\n",
              "      <td>0.18</td>\n",
              "      <td>0.01</td>\n",
              "      <td>-0.01</td>\n",
              "      <td>0.54</td>\n",
              "      <td>-0.03</td>\n",
              "      <td>-0.15</td>\n",
              "      <td>1.00</td>\n",
              "      <td>0.40</td>\n",
              "      <td>0.67</td>\n",
              "    </tr>\n",
              "    <tr>\n",
              "      <th>tolls_amount</th>\n",
              "      <td>-0.03</td>\n",
              "      <td>0.01</td>\n",
              "      <td>0.58</td>\n",
              "      <td>-0.00</td>\n",
              "      <td>0.00</td>\n",
              "      <td>0.25</td>\n",
              "      <td>-0.00</td>\n",
              "      <td>0.00</td>\n",
              "      <td>0.60</td>\n",
              "      <td>-0.07</td>\n",
              "      <td>-0.25</td>\n",
              "      <td>0.40</td>\n",
              "      <td>1.00</td>\n",
              "      <td>0.67</td>\n",
              "    </tr>\n",
              "    <tr>\n",
              "      <th>total_amount</th>\n",
              "      <td>-0.05</td>\n",
              "      <td>0.01</td>\n",
              "      <td>0.85</td>\n",
              "      <td>0.01</td>\n",
              "      <td>-0.01</td>\n",
              "      <td>0.34</td>\n",
              "      <td>0.01</td>\n",
              "      <td>-0.01</td>\n",
              "      <td>0.98</td>\n",
              "      <td>-0.06</td>\n",
              "      <td>-0.28</td>\n",
              "      <td>0.67</td>\n",
              "      <td>0.67</td>\n",
              "      <td>1.00</td>\n",
              "    </tr>\n",
              "  </tbody>\n",
              "</table>\n",
              "</div>"
            ],
            "text/plain": [
              "                   Sl No.  passenger_count  trip_distance  pickup_longitude  \\\n",
              "Sl No.               1.00            -0.28          -0.03             -0.04   \n",
              "passenger_count     -0.28             1.00           0.02              0.02   \n",
              "trip_distance       -0.03             0.02           1.00             -0.01   \n",
              "pickup_longitude    -0.04             0.02          -0.01              1.00   \n",
              "pickup_latitude      0.04            -0.03           0.00             -0.81   \n",
              "rate_code           -0.01            -0.00           0.22              0.04   \n",
              "dropoff_longitude   -0.04             0.02          -0.01              0.96   \n",
              "dropoff_latitude     0.04            -0.03           0.01             -0.82   \n",
              "fare_amount         -0.04             0.01           0.85              0.01   \n",
              "surcharge            0.19             0.01          -0.05             -0.01   \n",
              "mta_tax              0.00             0.01          -0.11             -0.04   \n",
              "tip_amount          -0.12            -0.01           0.47              0.01   \n",
              "tolls_amount        -0.03             0.01           0.58             -0.00   \n",
              "total_amount        -0.05             0.01           0.85              0.01   \n",
              "\n",
              "                   pickup_latitude  rate_code  dropoff_longitude  \\\n",
              "Sl No.                        0.04      -0.01              -0.04   \n",
              "passenger_count              -0.03      -0.00               0.02   \n",
              "trip_distance                 0.00       0.22              -0.01   \n",
              "pickup_longitude             -0.81       0.04               0.96   \n",
              "pickup_latitude               1.00      -0.02              -0.79   \n",
              "rate_code                    -0.02       1.00               0.04   \n",
              "dropoff_longitude            -0.79       0.04               1.00   \n",
              "dropoff_latitude              0.74      -0.03              -0.82   \n",
              "fare_amount                  -0.01       0.34               0.02   \n",
              "surcharge                     0.01      -0.06              -0.01   \n",
              "mta_tax                       0.03      -0.44              -0.04   \n",
              "tip_amount                   -0.01       0.18               0.01   \n",
              "tolls_amount                  0.00       0.25              -0.00   \n",
              "total_amount                 -0.01       0.34               0.01   \n",
              "\n",
              "                   dropoff_latitude  fare_amount  surcharge  mta_tax  \\\n",
              "Sl No.                         0.04        -0.04       0.19     0.00   \n",
              "passenger_count               -0.03         0.01       0.01     0.01   \n",
              "trip_distance                  0.01         0.85      -0.05    -0.11   \n",
              "pickup_longitude              -0.82         0.01      -0.01    -0.04   \n",
              "pickup_latitude                0.74        -0.01       0.01     0.03   \n",
              "rate_code                     -0.03         0.34      -0.06    -0.44   \n",
              "dropoff_longitude             -0.82         0.02      -0.01    -0.04   \n",
              "dropoff_latitude               1.00        -0.01       0.01     0.03   \n",
              "fare_amount                   -0.01         1.00      -0.09    -0.28   \n",
              "surcharge                      0.01        -0.09       1.00     0.04   \n",
              "mta_tax                        0.03        -0.28       0.04     1.00   \n",
              "tip_amount                    -0.01         0.54      -0.03    -0.15   \n",
              "tolls_amount                   0.00         0.60      -0.07    -0.25   \n",
              "total_amount                  -0.01         0.98      -0.06    -0.28   \n",
              "\n",
              "                   tip_amount  tolls_amount  total_amount  \n",
              "Sl No.                  -0.12         -0.03         -0.05  \n",
              "passenger_count         -0.01          0.01          0.01  \n",
              "trip_distance            0.47          0.58          0.85  \n",
              "pickup_longitude         0.01         -0.00          0.01  \n",
              "pickup_latitude         -0.01          0.00         -0.01  \n",
              "rate_code                0.18          0.25          0.34  \n",
              "dropoff_longitude        0.01         -0.00          0.01  \n",
              "dropoff_latitude        -0.01          0.00         -0.01  \n",
              "fare_amount              0.54          0.60          0.98  \n",
              "surcharge               -0.03         -0.07         -0.06  \n",
              "mta_tax                 -0.15         -0.25         -0.28  \n",
              "tip_amount               1.00          0.40          0.67  \n",
              "tolls_amount             0.40          1.00          0.67  \n",
              "total_amount             0.67          0.67          1.00  "
            ]
          },
          "execution_count": 9,
          "metadata": {},
          "output_type": "execute_result"
        }
      ],
      "source": [
        "# LEt's plot a correlation table\n",
        "ctable = numerical_df.corr(method='pearson', min_periods=1)\n",
        "round(ctable,2)"
      ]
    },
    {
      "cell_type": "code",
      "execution_count": 10,
      "metadata": {
        "colab": {
          "base_uri": "https://localhost:8080/",
          "height": 561
        },
        "id": "7mUCc539xaZu",
        "outputId": "b542081b-e820-4c2e-8d3e-cd21b73485d4"
      },
      "outputs": [
        {
          "data": {
            "text/plain": [
              "<Axes: >"
            ]
          },
          "execution_count": 10,
          "metadata": {},
          "output_type": "execute_result"
        },
        {
          "data": {
            "image/png": "[encoded data removed]",
            "text/plain": [
              "<Figure size 640x480 with 2 Axes>"
            ]
          },
          "metadata": {},
          "output_type": "display_data"
        }
      ],
      "source": [
        "sns.heatmap(ctable)"
      ]
    },
    {
      "cell_type": "markdown",
      "metadata": {
        "id": "lEHKKYs2pAKy"
      },
      "source": [
        "ASSUME we are interested in the following simple objective:\n",
        "\n",
        "***What is the relationship between Total Amount (taxi fare), trip distance, and # of passengers?***"
      ]
    },
    {
      "cell_type": "markdown",
      "metadata": {
        "id": "X9dHlHWke9J9"
      },
      "source": [
        "###**Step 3. Sumamry Descriptive Stats and Plots**"
      ]
    },
    {
      "cell_type": "code",
      "execution_count": 11,
      "metadata": {
        "colab": {
          "base_uri": "https://localhost:8080/",
          "height": 300
        },
        "id": "lLA4KqpdoCif",
        "outputId": "174c3ebc-3835-41e4-a329-339bef2a43a5"
      },
      "outputs": [
        {
          "data": {
            "text/html": [
              "<div>\n",
              "<style scoped>\n",
              "    .dataframe tbody tr th:only-of-type {\n",
              "        vertical-align: middle;\n",
              "    }\n",
              "\n",
              "    .dataframe tbody tr th {\n",
              "        vertical-align: top;\n",
              "    }\n",
              "\n",
              "    .dataframe thead th {\n",
              "        text-align: right;\n",
              "    }\n",
              "</style>\n",
              "<table border=\"1\" class=\"dataframe\">\n",
              "  <thead>\n",
              "    <tr style=\"text-align: right;\">\n",
              "      <th></th>\n",
              "      <th>total_amount</th>\n",
              "      <th>passenger_count</th>\n",
              "      <th>trip_distance</th>\n",
              "    </tr>\n",
              "  </thead>\n",
              "  <tbody>\n",
              "    <tr>\n",
              "      <th>count</th>\n",
              "      <td>490347.000000</td>\n",
              "      <td>490347.000000</td>\n",
              "      <td>490347.000000</td>\n",
              "    </tr>\n",
              "    <tr>\n",
              "      <th>mean</th>\n",
              "      <td>14.816540</td>\n",
              "      <td>1.674055</td>\n",
              "      <td>2.767391</td>\n",
              "    </tr>\n",
              "    <tr>\n",
              "      <th>std</th>\n",
              "      <td>11.834598</td>\n",
              "      <td>1.376545</td>\n",
              "      <td>3.263962</td>\n",
              "    </tr>\n",
              "    <tr>\n",
              "      <th>min</th>\n",
              "      <td>3.000000</td>\n",
              "      <td>0.000000</td>\n",
              "      <td>0.000000</td>\n",
              "    </tr>\n",
              "    <tr>\n",
              "      <th>25%</th>\n",
              "      <td>8.000000</td>\n",
              "      <td>1.000000</td>\n",
              "      <td>1.000000</td>\n",
              "    </tr>\n",
              "    <tr>\n",
              "      <th>50%</th>\n",
              "      <td>11.400000</td>\n",
              "      <td>1.000000</td>\n",
              "      <td>1.700000</td>\n",
              "    </tr>\n",
              "    <tr>\n",
              "      <th>75%</th>\n",
              "      <td>16.500000</td>\n",
              "      <td>2.000000</td>\n",
              "      <td>3.000000</td>\n",
              "    </tr>\n",
              "    <tr>\n",
              "      <th>max</th>\n",
              "      <td>492.900000</td>\n",
              "      <td>6.000000</td>\n",
              "      <td>70.790000</td>\n",
              "    </tr>\n",
              "  </tbody>\n",
              "</table>\n",
              "</div>"
            ],
            "text/plain": [
              "        total_amount  passenger_count  trip_distance\n",
              "count  490347.000000    490347.000000  490347.000000\n",
              "mean       14.816540         1.674055       2.767391\n",
              "std        11.834598         1.376545       3.263962\n",
              "min         3.000000         0.000000       0.000000\n",
              "25%         8.000000         1.000000       1.000000\n",
              "50%        11.400000         1.000000       1.700000\n",
              "75%        16.500000         2.000000       3.000000\n",
              "max       492.900000         6.000000      70.790000"
            ]
          },
          "execution_count": 11,
          "metadata": {},
          "output_type": "execute_result"
        }
      ],
      "source": [
        "# Summary statistics for our 3 variables of interest\n",
        "df[['total_amount','passenger_count','trip_distance']].describe(include=\"all\")"
      ]
    },
    {
      "cell_type": "code",
      "execution_count": 12,
      "metadata": {
        "colab": {
          "base_uri": "https://localhost:8080/",
          "height": 466
        },
        "id": "bpU_V4pnqI-w",
        "outputId": "e25cf929-e5c2-4c3c-8dc0-8cdef774327e"
      },
      "outputs": [
        {
          "data": {
            "text/plain": [
              "<Axes: xlabel='passenger_count', ylabel='Count'>"
            ]
          },
          "execution_count": 12,
          "metadata": {},
          "output_type": "execute_result"
        },
        {
          "data": {
            "image/png": "[encoded data removed]",
            "text/plain": [
              "<Figure size 640x480 with 1 Axes>"
            ]
          },
          "metadata": {},
          "output_type": "display_data"
        }
      ],
      "source": [
        "sns.histplot(df['passenger_count'])"
      ]
    },
    {
      "cell_type": "code",
      "execution_count": 13,
      "metadata": {
        "colab": {
          "base_uri": "https://localhost:8080/",
          "height": 467
        },
        "id": "5A2gZZ-1qasR",
        "outputId": "9080427b-ab81-4b72-f3dd-67dc68fcc1c3"
      },
      "outputs": [
        {
          "data": {
            "text/plain": [
              "<Axes: xlabel='total_amount'>"
            ]
          },
          "execution_count": 13,
          "metadata": {},
          "output_type": "execute_result"
        },
        {
          "data": {
            "image/png": "[encoded data removed]",
            "text/plain": [
              "<Figure size 640x480 with 1 Axes>"
            ]
          },
          "metadata": {},
          "output_type": "display_data"
        }
      ],
      "source": [
        "#sns.histplot(df['total_amount'])\n",
        "sns.boxplot(x=df[\"total_amount\"])"
      ]
    },
    {
      "cell_type": "markdown",
      "metadata": {
        "id": "7GxJQAKFWFHT"
      },
      "source": [
        "Note here that a) there are a lot of outliers, and b) you could probaby transform this data"
      ]
    },
    {
      "cell_type": "code",
      "execution_count": 14,
      "metadata": {
        "colab": {
          "base_uri": "https://localhost:8080/",
          "height": 467
        },
        "id": "e7L2GTVgqi4O",
        "outputId": "1fdbacd7-7881-47bb-bce0-8c24fcaf3d9b"
      },
      "outputs": [
        {
          "data": {
            "text/plain": [
              "<Axes: xlabel='trip_distance', ylabel='Count'>"
            ]
          },
          "execution_count": 14,
          "metadata": {},
          "output_type": "execute_result"
        },
        {
          "data": {
            "image/png": "[encoded data removed]",
            "text/plain": [
              "<Figure size 640x480 with 1 Axes>"
            ]
          },
          "metadata": {},
          "output_type": "display_data"
        }
      ],
      "source": [
        "sns.histplot(df['trip_distance'])"
      ]
    },
    {
      "cell_type": "markdown",
      "metadata": {
        "id": "IqQ9y1hrq9ya"
      },
      "source": [
        "We may have to deal with outliers here!\n",
        "\n",
        "Let's manually figure out outliers!"
      ]
    },
    {
      "cell_type": "code",
      "execution_count": 15,
      "metadata": {
        "colab": {
          "base_uri": "https://localhost:8080/"
        },
        "id": "oIMJT8Quq4yC",
        "outputId": "6b56e09f-c71b-4c9e-c11e-5124a56cf16c"
      },
      "outputs": [
        {
          "data": {
            "text/plain": [
              "(468562, 19)"
            ]
          },
          "execution_count": 15,
          "metadata": {},
          "output_type": "execute_result"
        }
      ],
      "source": [
        "df= df[df['trip_distance'] <=10] # drop trip distance above 10 miles\n",
        "df= df[df['passenger_count'] >0] # drop 0 passengers\n",
        "df= df[df['total_amount'] <100] # drop total fare <100\n",
        "df.shape"
      ]
    },
    {
      "cell_type": "markdown",
      "metadata": {
        "id": "xu93NQcUXOUB"
      },
      "source": [
        "Remember to rerun the summary stats and plots to see the effects!\n"
      ]
    },
    {
      "cell_type": "markdown",
      "metadata": {
        "id": "BkYawvtpsgi0"
      },
      "source": [
        "###**Step 4. Define and Run Linear Model** (OLS shown here)"
      ]
    },
    {
      "cell_type": "code",
      "execution_count": 16,
      "metadata": {
        "id": "A9f6HhuwrczU"
      },
      "outputs": [],
      "source": [
        "#Step 4.1: Define Model\n",
        "DV=[\"total_amount\"]\n",
        "IV=[\"passenger_count\",\"trip_distance\"]\n",
        "#IV[\"var1\",\"var2\",\"var3\"]"
      ]
    },
    {
      "cell_type": "code",
      "execution_count": 17,
      "metadata": {
        "colab": {
          "base_uri": "https://localhost:8080/"
        },
        "id": "sV4wj4mrr9Lk",
        "outputId": "709def73-9c99-4287-b7f9-6af92e8b5130"
      },
      "outputs": [
        {
          "name": "stdout",
          "output_type": "stream",
          "text": [
            "                            OLS Regression Results                            \n",
            "==============================================================================\n",
            "Dep. Variable:           total_amount   R-squared:                       0.555\n",
            "Model:                            OLS   Adj. R-squared:                  0.555\n",
            "Method:                 Least Squares   F-statistic:                 2.918e+05\n",
            "Date:                Mon, 07 Jul 2025   Prob (F-statistic):               0.00\n",
            "Time:                        20:08:34   Log-Likelihood:            -1.4358e+06\n",
            "No. Observations:              468562   AIC:                         2.872e+06\n",
            "Df Residuals:                  468559   BIC:                         2.872e+06\n",
            "Df Model:                           2                                         \n",
            "Covariance Type:            nonrobust                                         \n",
            "===================================================================================\n",
            "                      coef    std err          t      P>|t|      [0.025      0.975]\n",
            "-----------------------------------------------------------------------------------\n",
            "const               6.2778      0.015    422.425      0.000       6.249       6.307\n",
            "passenger_count    -0.0686      0.006    -12.463      0.000      -0.079      -0.058\n",
            "trip_distance       3.1177      0.004    763.971      0.000       3.110       3.126\n",
            "==============================================================================\n",
            "Omnibus:                   534803.440   Durbin-Watson:                   1.868\n",
            "Prob(Omnibus):                  0.000   Jarque-Bera (JB):         78200695.467\n",
            "Skew:                           5.862   Prob(JB):                         0.00\n",
            "Kurtosis:                      65.193   Cond. No.                         6.89\n",
            "==============================================================================\n",
            "\n",
            "Notes:\n",
            "[1] Standard Errors assume that the covariance matrix of the errors is correctly specified.\n"
          ]
        }
      ],
      "source": [
        "#Step 4.2: Test Model\n",
        "X = df[IV]\n",
        "y = df[DV]\n",
        "\n",
        "# add constant to the model\n",
        "X_c = sm.add_constant(X)\n",
        "\n",
        "# fit an OLS model\n",
        "model = sm.OLS(y,X_c, missing=\"drop\").fit()\n",
        "modelSummary= model.summary()\n",
        "print(modelSummary)"
      ]
    },
    {
      "cell_type": "markdown",
      "metadata": {
        "id": "WGF6JfHtugxi"
      },
      "source": [
        "1. Look at the adj r-squared\n",
        "2. look at the F statistic\n",
        "3. Look at the Independent variables:\n",
        "  3.1.   Is the coefficient size non zero?\n",
        "  3.2.   Look at the p-value - is it significant?\n",
        "\n"
      ]
    },
    {
      "cell_type": "markdown",
      "metadata": {
        "id": "B84gt-h6tH0I"
      },
      "source": [
        "Interpreting the Overall F-test of Significance\n",
        "\n",
        "Compare the p-value for the F-test to your significance level. If the p-value is less than the significance level, your sample data provide sufficient evidence to conclude that your regression model fits the data better than the model with no independent variables."
      ]
    },
    {
      "cell_type": "markdown",
      "metadata": {
        "id": "MEwbH5fWtI4W"
      },
      "source": [
        "#### Now let's run a model adding rate code"
      ]
    },
    {
      "cell_type": "code",
      "execution_count": 18,
      "metadata": {
        "id": "kGFAHCFQw917"
      },
      "outputs": [],
      "source": [
        "DV=[\"total_amount\"]\n",
        "IV=[\"passenger_count\",\"trip_distance\",\"rate_code\"]\n",
        "#IV[\"var1\",\"var2\",\"var3\"]"
      ]
    },
    {
      "cell_type": "code",
      "execution_count": 19,
      "metadata": {
        "colab": {
          "base_uri": "https://localhost:8080/"
        },
        "id": "JwwKKNpIx-gT",
        "outputId": "062cc1b5-3512-4d26-f39c-5c42e6b4bb3f"
      },
      "outputs": [
        {
          "name": "stdout",
          "output_type": "stream",
          "text": [
            "                            OLS Regression Results                            \n",
            "==============================================================================\n",
            "Dep. Variable:           total_amount   R-squared:                       0.647\n",
            "Model:                            OLS   Adj. R-squared:                  0.647\n",
            "Method:                 Least Squares   F-statistic:                 2.865e+05\n",
            "Date:                Mon, 07 Jul 2025   Prob (F-statistic):               0.00\n",
            "Time:                        20:08:39   Log-Likelihood:            -1.3813e+06\n",
            "No. Observations:              468562   AIC:                         2.763e+06\n",
            "Df Residuals:                  468558   BIC:                         2.763e+06\n",
            "Df Model:                           3                                         \n",
            "Covariance Type:            nonrobust                                         \n",
            "===================================================================================\n",
            "                      coef    std err          t      P>|t|      [0.025      0.975]\n",
            "-----------------------------------------------------------------------------------\n",
            "const              -6.5171      0.039   -167.819      0.000      -6.593      -6.441\n",
            "passenger_count    -0.0467      0.005     -9.536      0.000      -0.056      -0.037\n",
            "trip_distance       3.1367      0.004    863.417      0.000       3.130       3.144\n",
            "rate_code          12.5759      0.036    350.434      0.000      12.506      12.646\n",
            "==============================================================================\n",
            "Omnibus:                   369911.890   Durbin-Watson:                   1.833\n",
            "Prob(Omnibus):                  0.000   Jarque-Bera (JB):         32154523.954\n",
            "Skew:                           3.208   Prob(JB):                         0.00\n",
            "Kurtosis:                      43.073   Cond. No.                         27.0\n",
            "==============================================================================\n",
            "\n",
            "Notes:\n",
            "[1] Standard Errors assume that the covariance matrix of the errors is correctly specified.\n"
          ]
        }
      ],
      "source": [
        "X = df[IV]\n",
        "y = df[DV]\n",
        "\n",
        "# add constant to the model\n",
        "X_c = sm.add_constant(X)\n",
        "\n",
        "# fit an OLS model\n",
        "model2 = sm.OLS(y,X_c, missing=\"drop\").fit()\n",
        "model2Summary= model2.summary()\n",
        "print(model2Summary)"
      ]
    },
    {
      "cell_type": "markdown",
      "metadata": {
        "id": "_RxqziHcyJNw"
      },
      "source": [
        "Did the addition of the new variable make a significant contribution?\n",
        "\n",
        "\n",
        "    \n",
        "    \n",
        "\n",
        "\n",
        "1.   Did Adj R-squared improve?\n",
        "2.   Do the newly added variables have a significant effect on the dv? (check coefficient size and p-value)\n",
        "3. Do the newly added variables have a significant effect on the initial variables of interest? (check to see if coefficient size and p-values of the intial variables are different in this regression vs the one in step 4.2\n",
        "\n",
        "\n",
        "You can keep new variables that add value to the model (increase in adj r-sqd or significant impact on dv), and \"throw out\" any of the variables that do not add value. When throwing out variables, do it one by one and make sure that they indeed have zero effect on the model. We \"throw out\" variables that are not relevant (no informational value) because we want to keep our model lean and prevent overfitting.\n"
      ]
    },
    {
      "cell_type": "markdown",
      "metadata": {
        "id": "YxcR546u0LwT"
      },
      "source": [
        "###**Step 5. Model Diagnostics!**\n"
      ]
    },
    {
      "cell_type": "markdown",
      "metadata": {
        "id": "_0FpYTrHWYS7"
      },
      "source": [
        "1. Residuals Plot - check if normally distributed"
      ]
    },
    {
      "cell_type": "code",
      "execution_count": 20,
      "metadata": {
        "colab": {
          "base_uri": "https://localhost:8080/",
          "height": 430
        },
        "id": "Blkm05gb0Pht",
        "outputId": "cb5ae2fd-daa3-4260-f7cc-aad6b9186a00"
      },
      "outputs": [
        {
          "data": {
            "image/png": "[encoded data removed]",
            "text/plain": [
              "<Figure size 640x480 with 1 Axes>"
            ]
          },
          "metadata": {},
          "output_type": "display_data"
        }
      ],
      "source": [
        "from scipy import stats\n",
        "sns.histplot(model2.resid);\n",
        "#sns.boxplot(model2.resid, showmeans=True);"
      ]
    },
    {
      "cell_type": "markdown",
      "metadata": {
        "id": "LKV68s-JXn65"
      },
      "source": [
        "Residuals look Normally distributed, so looking good"
      ]
    },
    {
      "cell_type": "markdown",
      "metadata": {
        "id": "uMYnvNGfX24t"
      },
      "source": [
        "2. Q-Q plot for Residuals"
      ]
    },
    {
      "cell_type": "code",
      "execution_count": 21,
      "metadata": {
        "colab": {
          "base_uri": "https://localhost:8080/",
          "height": 455
        },
        "id": "4k9ac44IXtCW",
        "outputId": "330e7ac1-bfa9-4fcd-d660-3cf6318c7e09"
      },
      "outputs": [
        {
          "data": {
            "image/png": "[encoded data removed]",
            "text/plain": [
              "<Figure size 640x480 with 1 Axes>"
            ]
          },
          "metadata": {},
          "output_type": "display_data"
        }
      ],
      "source": [
        "#sm.qqplot(model.resid, line='s');\n",
        "sm.qqplot(model2.resid, line='s');"
      ]
    },
    {
      "cell_type": "markdown",
      "metadata": {
        "id": "u8YFx2PbYOjU"
      },
      "source": [
        "Outliers >2 and <-2 could be problematic"
      ]
    },
    {
      "cell_type": "markdown",
      "metadata": {
        "id": "rwWj9bESYaLz"
      },
      "source": [
        "3. Residuals vs. Fitted"
      ]
    },
    {
      "cell_type": "code",
      "execution_count": 22,
      "metadata": {
        "id": "aIs0sJd_Yb5Q"
      },
      "outputs": [],
      "source": [
        "# Takes a while to run\n",
        "#plot = sns.residplot(x=model2.fittedvalues, y='total_amount', data=df, lowess=True,\n",
        "#                     scatter_kws={'alpha': 0.5},\n",
        "#                     line_kws={'color': 'red', 'lw': 1, 'alpha': 0.8})\n",
        "\n",
        "# Titel and labels\n",
        "#plot.set_title('Residuals vs Fitted')\n",
        "#plot.set_xlabel('Fitted values')\n",
        "#plot.set_ylabel('Residuals');"
      ]
    },
    {
      "cell_type": "code",
      "execution_count": 23,
      "metadata": {
        "colab": {
          "base_uri": "https://localhost:8080/",
          "height": 472
        },
        "id": "9EKXwaBYmTNr",
        "outputId": "536936e9-a53a-486b-d9e5-08bf52f96ef8"
      },
      "outputs": [
        {
          "data": {
            "image/png": "[encoded data removed]",
            "text/plain": [
              "<Figure size 640x480 with 1 Axes>"
            ]
          },
          "metadata": {},
          "output_type": "display_data"
        }
      ],
      "source": [
        "sm.graphics.plot_fit(model2,1, vlines=False);"
      ]
    },
    {
      "cell_type": "code",
      "execution_count": 24,
      "metadata": {
        "colab": {
          "base_uri": "https://localhost:8080/"
        },
        "id": "u9tHh0M7qVVJ",
        "outputId": "5633cd1b-6ca8-4418-a5ba-ebd833d88ba1"
      },
      "outputs": [
        {
          "name": "stdout",
          "output_type": "stream",
          "text": [
            "Model 1 Performance:\n",
            "MAE: 2.68\n",
            "RMSE: 5.19\n",
            "MPE: -10.23%\n",
            "\n",
            "Model 2 Performance:\n",
            "MAE: 2.58\n",
            "RMSE: 4.63\n",
            "MPE: -9.19%\n"
          ]
        }
      ],
      "source": [
        "# prompt: Perform a simple test-train split and try to predict Total amount from model 1 and model 2. Show performance using MAE, RMSE and MPE\n",
        "\n",
        "from sklearn.model_selection import train_test_split\n",
        "from sklearn.metrics import mean_absolute_error, mean_squared_error\n",
        "import math\n",
        "\n",
        "# Define Dependent and Independent Variables\n",
        "DV = \"total_amount\"\n",
        "IV1 = [\"passenger_count\", \"trip_distance\"]\n",
        "IV2 = [\"passenger_count\", \"trip_distance\", \"rate_code\"]\n",
        "\n",
        "# Split data into training and testing sets (using model 1's IVs for the split)\n",
        "X_train1, X_test1, y_train1, y_test1 = train_test_split(df[IV1], df[DV], test_size=0.2, random_state=42)\n",
        "X_train2, X_test2, y_train2, y_test2 = train_test_split(df[IV2], df[DV], test_size=0.2, random_state=42)\n",
        "\n",
        "\n",
        "# Model 1\n",
        "X_train_c1 = sm.add_constant(X_train1)\n",
        "model1 = sm.OLS(y_train1, X_train_c1, missing=\"drop\").fit()\n",
        "\n",
        "X_test_c1 = sm.add_constant(X_test1)\n",
        "predictions1 = model1.predict(X_test_c1)\n",
        "\n",
        "mae1 = mean_absolute_error(y_test1, predictions1)\n",
        "rmse1 = math.sqrt(mean_squared_error(y_test1, predictions1))\n",
        "mpe1 = np.mean((y_test1 - predictions1) / y_test1) * 100\n",
        "\n",
        "print(\"Model 1 Performance:\")\n",
        "print(f\"MAE: {mae1:.2f}\")\n",
        "print(f\"RMSE: {rmse1:.2f}\")\n",
        "print(f\"MPE: {mpe1:.2f}%\")\n",
        "\n",
        "# Model 2\n",
        "X_train_c2 = sm.add_constant(X_train2)\n",
        "model2_fitted = sm.OLS(y_train2, X_train_c2, missing=\"drop\").fit()\n",
        "\n",
        "X_test_c2 = sm.add_constant(X_test2)\n",
        "predictions2 = model2_fitted.predict(X_test_c2)\n",
        "\n",
        "mae2 = mean_absolute_error(y_test2, predictions2)\n",
        "rmse2 = math.sqrt(mean_squared_error(y_test2, predictions2))\n",
        "mpe2 = np.mean((y_test2 - predictions2) / y_test2) * 100\n",
        "\n",
        "print(\"\\nModel 2 Performance:\")\n",
        "print(f\"MAE: {mae2:.2f}\")\n",
        "print(f\"RMSE: {rmse2:.2f}\")\n",
        "print(f\"MPE: {mpe2:.2f}%\")\n"
      ]
    }
  ],
  "metadata": {
    "accelerator": "TPU",
    "colab": {
      "gpuType": "V5E1",
      "machine_shape": "hm",
      "provenance": []
    },
    "kernelspec": {
      "display_name": "Python 3",
      "name": "python3"
    },
    "language_info": {
      "codemirror_mode": {
        "name": "ipython",
        "version": 3
      },
      "file_extension": ".py",
      "mimetype": "text/x-python",
      "name": "python",
      "nbconvert_exporter": "python",
      "pygments_lexer": "ipython3",
      "version": "3.13.2"
    }
  },
  "nbformat": 4,
  "nbformat_minor": 0
}
