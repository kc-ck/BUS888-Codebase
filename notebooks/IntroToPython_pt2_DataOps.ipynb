{
 "cells": [
  {
   "cell_type": "markdown",
   "metadata": {
    "id": "exneKSptB98V"
   },
   "source": [
    "# Introduction to Python for Data Analysis\n",
    "## Part 2: Working with Data\n",
    "### C Kaligotla"
   ]
  },
  {
   "cell_type": "markdown",
   "metadata": {
    "id": "FhVMLJhYB98W"
   },
   "source": []
  },
  {
   "cell_type": "markdown",
   "metadata": {
    "id": "vYUO_M8BB98W"
   },
   "source": [
    "#### Chapter 1: Python Libraries - Pandas, and DataFrames"
   ]
  },
  {
   "cell_type": "markdown",
   "metadata": {
    "id": "35wb-ibrB98W"
   },
   "source": [
    "A Python library (or package) contains things (objects, code) that is not part of the core Python language but is nonetheless useful to some community of users.\n",
    "\n",
    "Libraries save us from re-inventing the wheel: Once someone has created a library and made it available for download, we can use the contents of the library in our own Python programs.\n",
    "\n",
    "For example, to use the pandas.DataFrame object in our programs, we must first import the Pandas library into our environment.\n",
    "\n",
    "A nice guide to pandas: https://pandas.pydata.org/pandas-docs/stable/user_guide/10min.html"
   ]
  },
  {
   "cell_type": "code",
   "execution_count": 1,
   "metadata": {
    "id": "JKmoJf-YB98X"
   },
   "outputs": [],
   "source": [
    "# Loading pandas library\n",
    "import pandas as pd"
   ]
  },
  {
   "cell_type": "markdown",
   "metadata": {
    "id": "3GUeiDclB98Y"
   },
   "source": [
    "- The pd here is simply shortform or an alias for pandas.\n",
    "- To call on the library, the structure is <library/alias>.function(input)\n",
    "- With alias pd for pandas, we can simply type pd.function(input)\n",
    "    - e.g., pd.read_csv(input file) calls the read_csv function from pandas library into a directed input file"
   ]
  },
  {
   "cell_type": "markdown",
   "metadata": {
    "id": "eUXcMKKwB98Y"
   },
   "source": [
    "DataFrames are special object structures in the Pandas library\n",
    "- They are multidimensional arrays, just like excel!\n",
    "- different columns can have different data types (strings, numbers, boolean...)"
   ]
  },
  {
   "cell_type": "markdown",
   "metadata": {
    "id": "WywISWIpB98Y"
   },
   "source": [
    "#### Creating DataFrame objects"
   ]
  },
  {
   "cell_type": "code",
   "execution_count": 2,
   "metadata": {
    "id": "qjIUM_UWB98Z"
   },
   "outputs": [],
   "source": [
    "# let's create a DataFrame object called df\n",
    "# notice the structure:\n",
    "    #First the Column name, a :, and then individual rows for that column within [ ]\n",
    "        # just like in a dictionary!\n",
    "    # a comma to separate columns, and rinse and repeat\n",
    "\n",
    "df = pd.DataFrame({'Artist':['Billie Holiday','Jimi Hendrix', 'Miles Davis', 'SIA'],\n",
    "              'Genre': ['Jazz', 'Rock', 'Jazz', 'Pop'],\n",
    "              'Listeners': [1300000, 2700000, 1500000, 2000000],\n",
    "              'Plays': [27000000, 70000000, 48000000, 74000000]})"
   ]
  },
  {
   "cell_type": "code",
   "execution_count": 7,
   "metadata": {
    "id": "PdknoVr0B98Z",
    "scrolled": true
   },
   "outputs": [
    {
     "name": "stdout",
     "output_type": "stream",
     "text": [
      "           Artist Genre  Listeners     Plays\n",
      "0  Billie Holiday  Jazz    1300000  27000000\n",
      "1    Jimi Hendrix  Rock    2700000  70000000\n",
      "2     Miles Davis  Jazz    1500000  48000000\n",
      "3             SIA   Pop    2000000  74000000\n"
     ]
    },
    {
     "data": {
      "text/html": [
       "<div>\n",
       "<style scoped>\n",
       "    .dataframe tbody tr th:only-of-type {\n",
       "        vertical-align: middle;\n",
       "    }\n",
       "\n",
       "    .dataframe tbody tr th {\n",
       "        vertical-align: top;\n",
       "    }\n",
       "\n",
       "    .dataframe thead th {\n",
       "        text-align: right;\n",
       "    }\n",
       "</style>\n",
       "<table border=\"1\" class=\"dataframe\">\n",
       "  <thead>\n",
       "    <tr style=\"text-align: right;\">\n",
       "      <th></th>\n",
       "      <th>Artist</th>\n",
       "      <th>Genre</th>\n",
       "      <th>Listeners</th>\n",
       "      <th>Plays</th>\n",
       "    </tr>\n",
       "  </thead>\n",
       "  <tbody>\n",
       "    <tr>\n",
       "      <th>0</th>\n",
       "      <td>Billie Holiday</td>\n",
       "      <td>Jazz</td>\n",
       "      <td>1300000</td>\n",
       "      <td>27000000</td>\n",
       "    </tr>\n",
       "    <tr>\n",
       "      <th>1</th>\n",
       "      <td>Jimi Hendrix</td>\n",
       "      <td>Rock</td>\n",
       "      <td>2700000</td>\n",
       "      <td>70000000</td>\n",
       "    </tr>\n",
       "    <tr>\n",
       "      <th>2</th>\n",
       "      <td>Miles Davis</td>\n",
       "      <td>Jazz</td>\n",
       "      <td>1500000</td>\n",
       "      <td>48000000</td>\n",
       "    </tr>\n",
       "    <tr>\n",
       "      <th>3</th>\n",
       "      <td>SIA</td>\n",
       "      <td>Pop</td>\n",
       "      <td>2000000</td>\n",
       "      <td>74000000</td>\n",
       "    </tr>\n",
       "  </tbody>\n",
       "</table>\n",
       "</div>"
      ],
      "text/plain": [
       "           Artist Genre  Listeners     Plays\n",
       "0  Billie Holiday  Jazz    1300000  27000000\n",
       "1    Jimi Hendrix  Rock    2700000  70000000\n",
       "2     Miles Davis  Jazz    1500000  48000000\n",
       "3             SIA   Pop    2000000  74000000"
      ]
     },
     "execution_count": 7,
     "metadata": {},
     "output_type": "execute_result"
    }
   ],
   "source": [
    "#To view the dataframe, just use print or type the name of the dataframe object\n",
    "print(df)\n",
    "df"
   ]
  },
  {
   "cell_type": "markdown",
   "metadata": {
    "id": "6r5RfB4lB98a"
   },
   "source": [
    "#### Importing Data using Pandas DataFrame"
   ]
  },
  {
   "cell_type": "markdown",
   "metadata": {
    "id": "r-Ytau9EB98l"
   },
   "source": [
    "    - use pd.read_csv(file) to import a csv file\n",
    "    - use pd.read_excel(file) to import an excel file\n",
    "    - For other file types, look up the command!"
   ]
  },
  {
   "cell_type": "markdown",
   "metadata": {
    "id": "E4q8RZF8B98m"
   },
   "source": [
    "<div class=\"alert alert-block alert-info\">\n",
    "    <B>Hint 1:</B>\n",
    "    Pointing to a file on your computer is always tricky when you don't have a pop-up file system chooser like you do in most Windows applications. Some basic hints:\n",
    "<OL>\n",
    "    <LI>If practical, put the data file in the same folder as your Jupyter notebook.  In the example above, I created a subfolder called \"Data\" and put the bank data there.  This makes it easier for you to remember (and type) the path to the data file.</LI>\n",
    "    <LI>If your data must reside somewhere else on your computer or network: Be very careful when typing.  Cut and paste the path from Windows Explorer if required.</LI>\n",
    "    <LI>Beware the slashes/backslashes. Unix-like operating systems seperate directory names with a slash \"/\" whereas Microsoft Windows uses a backslash \"\\\". In general, Python seperates folders with forward slashes.  The backward slash is used in Python as the 'escape' character.  If you cut and paste from Windows Explorer, you must either change all the backslashes to slashes or add the \"r\" prefix to your pathname to indicate a \"raw\" string of text (Python will ingore the special meaning of backslashes).  So the following should work for a more complex file location:\n",
    "    <OL>\n",
    "        <LI><code>pd.read_csv('C:/Users/CK/Data/Bank.csv\")</code> &mdash; all forward slashes</LI>\n",
    "        <LI><code>pd.read_csv(r'C:\\Users\\CK\\Data/Bank.csv\")</code> &mdash; mixture of slashes and backslashes with the \"r\" prefix</LI>\n",
    "     </OL>\n",
    "\n",
    "</OL>\n",
    "<B>Hint 2: Use Dropbox / Google Drive / etc.. </B>\n",
    " <LI>Save the location as a separate string object (like url)</LI>\n",
    " <LI>Ensure there is dl=1 at the end of the string</LI>\n",
    "     <LI> point pandas input to the url object</LI>\n",
    "    </div>"
   ]
  },
  {
   "cell_type": "code",
   "execution_count": 8,
   "metadata": {
    "id": "PMeOWppnB98m"
   },
   "outputs": [],
   "source": [
    "url =\"https://www.dropbox.com/s/dmhumwapmrqe4j0/Bank.csv?dl=1\"\n",
    "# You can load data directly from a dropbox link - just make sure dl=1 in the end"
   ]
  },
  {
   "cell_type": "code",
   "execution_count": 9,
   "metadata": {
    "id": "GMXXmcaQB98m"
   },
   "outputs": [],
   "source": [
    "bank = pd.read_csv(url)\n",
    "# assign data to an object (dataframe) called bank. You can name this whatever you like"
   ]
  },
  {
   "cell_type": "code",
   "execution_count": 13,
   "metadata": {
    "id": "JoSqpkZEB98n"
   },
   "outputs": [
    {
     "data": {
      "text/html": [
       "<div>\n",
       "<style scoped>\n",
       "    .dataframe tbody tr th:only-of-type {\n",
       "        vertical-align: middle;\n",
       "    }\n",
       "\n",
       "    .dataframe tbody tr th {\n",
       "        vertical-align: top;\n",
       "    }\n",
       "\n",
       "    .dataframe thead th {\n",
       "        text-align: right;\n",
       "    }\n",
       "</style>\n",
       "<table border=\"1\" class=\"dataframe\">\n",
       "  <thead>\n",
       "    <tr style=\"text-align: right;\">\n",
       "      <th></th>\n",
       "      <th>Employee</th>\n",
       "      <th>EducLev</th>\n",
       "      <th>JobGrade</th>\n",
       "      <th>YrHired</th>\n",
       "      <th>YrBorn</th>\n",
       "      <th>Gender</th>\n",
       "      <th>YrsPrior</th>\n",
       "      <th>PCJob</th>\n",
       "      <th>Salary</th>\n",
       "      <th>Mgmt</th>\n",
       "    </tr>\n",
       "  </thead>\n",
       "  <tbody>\n",
       "    <tr>\n",
       "      <th>0</th>\n",
       "      <td>1</td>\n",
       "      <td>3</td>\n",
       "      <td>1</td>\n",
       "      <td>92</td>\n",
       "      <td>69</td>\n",
       "      <td>Male</td>\n",
       "      <td>1</td>\n",
       "      <td>No</td>\n",
       "      <td>32.0</td>\n",
       "      <td>Non-Mgmt</td>\n",
       "    </tr>\n",
       "    <tr>\n",
       "      <th>1</th>\n",
       "      <td>2</td>\n",
       "      <td>1</td>\n",
       "      <td>1</td>\n",
       "      <td>81</td>\n",
       "      <td>57</td>\n",
       "      <td>Female</td>\n",
       "      <td>1</td>\n",
       "      <td>No</td>\n",
       "      <td>39.1</td>\n",
       "      <td>Non-Mgmt</td>\n",
       "    </tr>\n",
       "    <tr>\n",
       "      <th>2</th>\n",
       "      <td>3</td>\n",
       "      <td>1</td>\n",
       "      <td>1</td>\n",
       "      <td>83</td>\n",
       "      <td>60</td>\n",
       "      <td>Female</td>\n",
       "      <td>0</td>\n",
       "      <td>No</td>\n",
       "      <td>33.2</td>\n",
       "      <td>Non-Mgmt</td>\n",
       "    </tr>\n",
       "    <tr>\n",
       "      <th>3</th>\n",
       "      <td>4</td>\n",
       "      <td>2</td>\n",
       "      <td>1</td>\n",
       "      <td>87</td>\n",
       "      <td>55</td>\n",
       "      <td>Female</td>\n",
       "      <td>7</td>\n",
       "      <td>No</td>\n",
       "      <td>30.6</td>\n",
       "      <td>Non-Mgmt</td>\n",
       "    </tr>\n",
       "    <tr>\n",
       "      <th>4</th>\n",
       "      <td>5</td>\n",
       "      <td>3</td>\n",
       "      <td>1</td>\n",
       "      <td>92</td>\n",
       "      <td>67</td>\n",
       "      <td>Male</td>\n",
       "      <td>0</td>\n",
       "      <td>No</td>\n",
       "      <td>29.0</td>\n",
       "      <td>Non-Mgmt</td>\n",
       "    </tr>\n",
       "    <tr>\n",
       "      <th>...</th>\n",
       "      <td>...</td>\n",
       "      <td>...</td>\n",
       "      <td>...</td>\n",
       "      <td>...</td>\n",
       "      <td>...</td>\n",
       "      <td>...</td>\n",
       "      <td>...</td>\n",
       "      <td>...</td>\n",
       "      <td>...</td>\n",
       "      <td>...</td>\n",
       "    </tr>\n",
       "    <tr>\n",
       "      <th>203</th>\n",
       "      <td>204</td>\n",
       "      <td>3</td>\n",
       "      <td>6</td>\n",
       "      <td>61</td>\n",
       "      <td>35</td>\n",
       "      <td>Male</td>\n",
       "      <td>0</td>\n",
       "      <td>No</td>\n",
       "      <td>95.0</td>\n",
       "      <td>Mgmt</td>\n",
       "    </tr>\n",
       "    <tr>\n",
       "      <th>204</th>\n",
       "      <td>205</td>\n",
       "      <td>5</td>\n",
       "      <td>6</td>\n",
       "      <td>59</td>\n",
       "      <td>34</td>\n",
       "      <td>Male</td>\n",
       "      <td>0</td>\n",
       "      <td>No</td>\n",
       "      <td>97.0</td>\n",
       "      <td>Mgmt</td>\n",
       "    </tr>\n",
       "    <tr>\n",
       "      <th>205</th>\n",
       "      <td>206</td>\n",
       "      <td>5</td>\n",
       "      <td>6</td>\n",
       "      <td>63</td>\n",
       "      <td>33</td>\n",
       "      <td>Male</td>\n",
       "      <td>0</td>\n",
       "      <td>No</td>\n",
       "      <td>88.0</td>\n",
       "      <td>Mgmt</td>\n",
       "    </tr>\n",
       "    <tr>\n",
       "      <th>206</th>\n",
       "      <td>207</td>\n",
       "      <td>5</td>\n",
       "      <td>6</td>\n",
       "      <td>60</td>\n",
       "      <td>36</td>\n",
       "      <td>Male</td>\n",
       "      <td>0</td>\n",
       "      <td>No</td>\n",
       "      <td>94.0</td>\n",
       "      <td>Mgmt</td>\n",
       "    </tr>\n",
       "    <tr>\n",
       "      <th>207</th>\n",
       "      <td>208</td>\n",
       "      <td>5</td>\n",
       "      <td>6</td>\n",
       "      <td>62</td>\n",
       "      <td>33</td>\n",
       "      <td>Female</td>\n",
       "      <td>0</td>\n",
       "      <td>No</td>\n",
       "      <td>30.0</td>\n",
       "      <td>Mgmt</td>\n",
       "    </tr>\n",
       "  </tbody>\n",
       "</table>\n",
       "<p>208 rows × 10 columns</p>\n",
       "</div>"
      ],
      "text/plain": [
       "     Employee  EducLev  JobGrade  YrHired  YrBorn  Gender  YrsPrior PCJob  \\\n",
       "0           1        3         1       92      69    Male         1    No   \n",
       "1           2        1         1       81      57  Female         1    No   \n",
       "2           3        1         1       83      60  Female         0    No   \n",
       "3           4        2         1       87      55  Female         7    No   \n",
       "4           5        3         1       92      67    Male         0    No   \n",
       "..        ...      ...       ...      ...     ...     ...       ...   ...   \n",
       "203       204        3         6       61      35    Male         0    No   \n",
       "204       205        5         6       59      34    Male         0    No   \n",
       "205       206        5         6       63      33    Male         0    No   \n",
       "206       207        5         6       60      36    Male         0    No   \n",
       "207       208        5         6       62      33  Female         0    No   \n",
       "\n",
       "     Salary      Mgmt  \n",
       "0      32.0  Non-Mgmt  \n",
       "1      39.1  Non-Mgmt  \n",
       "2      33.2  Non-Mgmt  \n",
       "3      30.6  Non-Mgmt  \n",
       "4      29.0  Non-Mgmt  \n",
       "..      ...       ...  \n",
       "203    95.0      Mgmt  \n",
       "204    97.0      Mgmt  \n",
       "205    88.0      Mgmt  \n",
       "206    94.0      Mgmt  \n",
       "207    30.0      Mgmt  \n",
       "\n",
       "[208 rows x 10 columns]"
      ]
     },
     "execution_count": 13,
     "metadata": {},
     "output_type": "execute_result"
    }
   ],
   "source": [
    "bank # to view the dataFrame"
   ]
  },
  {
   "cell_type": "markdown",
   "metadata": {
    "id": "UlZ_mlXVB98n"
   },
   "source": [
    "    Structure to call functions: <dataFrame_Object>.functions\n",
    "    ().shape gives # of rows and colms\n",
    "    ().info() gives the data type and null counts for ALL columns\n",
    "    ().describe() generates summary statistics for the numerical columns\n",
    "    \n",
    "Notice the difference between a property like shape with no parentheses while a method like describe() has parentheses!\n",
    "Parantheses for functions implies the ability to pass arguments to these functions.\n",
    "\n",
    "Hint: Press the Shift-Tab key while within the parantheses of a Python method for a list of the possible arguments. Hit Shift-Tab twice to get more detailed help."
   ]
  },
  {
   "cell_type": "code",
   "execution_count": 15,
   "metadata": {
    "id": "TG2MfKvnB98q"
   },
   "outputs": [
    {
     "data": {
      "text/plain": [
       "(208, 10)"
      ]
     },
     "execution_count": 15,
     "metadata": {},
     "output_type": "execute_result"
    }
   ],
   "source": [
    "bank.shape"
   ]
  },
  {
   "cell_type": "code",
   "execution_count": 16,
   "metadata": {
    "id": "jZnLdFzWB98q"
   },
   "outputs": [
    {
     "name": "stdout",
     "output_type": "stream",
     "text": [
      "<class 'pandas.core.frame.DataFrame'>\n",
      "RangeIndex: 208 entries, 0 to 207\n",
      "Data columns (total 10 columns):\n",
      " #   Column    Non-Null Count  Dtype  \n",
      "---  ------    --------------  -----  \n",
      " 0   Employee  208 non-null    int64  \n",
      " 1   EducLev   208 non-null    int64  \n",
      " 2   JobGrade  208 non-null    int64  \n",
      " 3   YrHired   208 non-null    int64  \n",
      " 4   YrBorn    208 non-null    int64  \n",
      " 5   Gender    208 non-null    object \n",
      " 6   YrsPrior  208 non-null    int64  \n",
      " 7   PCJob     208 non-null    object \n",
      " 8   Salary    208 non-null    float64\n",
      " 9   Mgmt      208 non-null    object \n",
      "dtypes: float64(1), int64(6), object(3)\n",
      "memory usage: 16.4+ KB\n"
     ]
    }
   ],
   "source": [
    "bank.info()\n",
    "# notice all columns are here!"
   ]
  },
  {
   "cell_type": "code",
   "execution_count": 18,
   "metadata": {
    "id": "VzT_OFGjB98q"
   },
   "outputs": [
    {
     "data": {
      "text/html": [
       "<div>\n",
       "<style scoped>\n",
       "    .dataframe tbody tr th:only-of-type {\n",
       "        vertical-align: middle;\n",
       "    }\n",
       "\n",
       "    .dataframe tbody tr th {\n",
       "        vertical-align: top;\n",
       "    }\n",
       "\n",
       "    .dataframe thead th {\n",
       "        text-align: right;\n",
       "    }\n",
       "</style>\n",
       "<table border=\"1\" class=\"dataframe\">\n",
       "  <thead>\n",
       "    <tr style=\"text-align: right;\">\n",
       "      <th></th>\n",
       "      <th>Employee</th>\n",
       "      <th>EducLev</th>\n",
       "      <th>JobGrade</th>\n",
       "      <th>YrHired</th>\n",
       "      <th>YrBorn</th>\n",
       "      <th>YrsPrior</th>\n",
       "      <th>Salary</th>\n",
       "    </tr>\n",
       "  </thead>\n",
       "  <tbody>\n",
       "    <tr>\n",
       "      <th>count</th>\n",
       "      <td>208.000000</td>\n",
       "      <td>208.000000</td>\n",
       "      <td>208.000000</td>\n",
       "      <td>208.000000</td>\n",
       "      <td>208.000000</td>\n",
       "      <td>208.000000</td>\n",
       "      <td>208.000000</td>\n",
       "    </tr>\n",
       "    <tr>\n",
       "      <th>mean</th>\n",
       "      <td>104.500000</td>\n",
       "      <td>3.158654</td>\n",
       "      <td>2.759615</td>\n",
       "      <td>85.326923</td>\n",
       "      <td>54.605769</td>\n",
       "      <td>2.375000</td>\n",
       "      <td>39.921923</td>\n",
       "    </tr>\n",
       "    <tr>\n",
       "      <th>std</th>\n",
       "      <td>60.188592</td>\n",
       "      <td>1.467464</td>\n",
       "      <td>1.566529</td>\n",
       "      <td>6.987832</td>\n",
       "      <td>10.318988</td>\n",
       "      <td>3.135237</td>\n",
       "      <td>11.256154</td>\n",
       "    </tr>\n",
       "    <tr>\n",
       "      <th>min</th>\n",
       "      <td>1.000000</td>\n",
       "      <td>1.000000</td>\n",
       "      <td>1.000000</td>\n",
       "      <td>56.000000</td>\n",
       "      <td>30.000000</td>\n",
       "      <td>0.000000</td>\n",
       "      <td>26.700000</td>\n",
       "    </tr>\n",
       "    <tr>\n",
       "      <th>25%</th>\n",
       "      <td>52.750000</td>\n",
       "      <td>2.000000</td>\n",
       "      <td>1.000000</td>\n",
       "      <td>82.000000</td>\n",
       "      <td>47.750000</td>\n",
       "      <td>0.000000</td>\n",
       "      <td>33.000000</td>\n",
       "    </tr>\n",
       "    <tr>\n",
       "      <th>50%</th>\n",
       "      <td>104.500000</td>\n",
       "      <td>3.000000</td>\n",
       "      <td>3.000000</td>\n",
       "      <td>87.000000</td>\n",
       "      <td>56.500000</td>\n",
       "      <td>1.000000</td>\n",
       "      <td>37.000000</td>\n",
       "    </tr>\n",
       "    <tr>\n",
       "      <th>75%</th>\n",
       "      <td>156.250000</td>\n",
       "      <td>5.000000</td>\n",
       "      <td>4.000000</td>\n",
       "      <td>90.000000</td>\n",
       "      <td>63.000000</td>\n",
       "      <td>4.000000</td>\n",
       "      <td>44.000000</td>\n",
       "    </tr>\n",
       "    <tr>\n",
       "      <th>max</th>\n",
       "      <td>208.000000</td>\n",
       "      <td>5.000000</td>\n",
       "      <td>6.000000</td>\n",
       "      <td>93.000000</td>\n",
       "      <td>73.000000</td>\n",
       "      <td>18.000000</td>\n",
       "      <td>97.000000</td>\n",
       "    </tr>\n",
       "  </tbody>\n",
       "</table>\n",
       "</div>"
      ],
      "text/plain": [
       "         Employee     EducLev    JobGrade     YrHired      YrBorn    YrsPrior  \\\n",
       "count  208.000000  208.000000  208.000000  208.000000  208.000000  208.000000   \n",
       "mean   104.500000    3.158654    2.759615   85.326923   54.605769    2.375000   \n",
       "std     60.188592    1.467464    1.566529    6.987832   10.318988    3.135237   \n",
       "min      1.000000    1.000000    1.000000   56.000000   30.000000    0.000000   \n",
       "25%     52.750000    2.000000    1.000000   82.000000   47.750000    0.000000   \n",
       "50%    104.500000    3.000000    3.000000   87.000000   56.500000    1.000000   \n",
       "75%    156.250000    5.000000    4.000000   90.000000   63.000000    4.000000   \n",
       "max    208.000000    5.000000    6.000000   93.000000   73.000000   18.000000   \n",
       "\n",
       "           Salary  \n",
       "count  208.000000  \n",
       "mean    39.921923  \n",
       "std     11.256154  \n",
       "min     26.700000  \n",
       "25%     33.000000  \n",
       "50%     37.000000  \n",
       "75%     44.000000  \n",
       "max     97.000000  "
      ]
     },
     "execution_count": 18,
     "metadata": {},
     "output_type": "execute_result"
    }
   ],
   "source": [
    "bank.describe()\n",
    "# notice it only summarizes numerical columns!"
   ]
  },
  {
   "cell_type": "code",
   "execution_count": null,
   "metadata": {
    "id": "B9hmwFeEB98q"
   },
   "outputs": [],
   "source": [
    "# now repeat the same for the bank dataFrame!"
   ]
  },
  {
   "cell_type": "markdown",
   "metadata": {
    "id": "PYNnMKl8B98r"
   },
   "source": [
    "#### Converting strings to categories\n",
    "\n",
    "It is useful to recognize strings in Data to refer to classifiers or Categories\n",
    "\n",
    "Pandas permits you to recognize character data to relate to categorical data - called _category_.  \n",
    "\n",
    "The process for replacing the two (string) \"Object\" columns with categories is using .astype('category') function.\n",
    "\n",
    "The key is understanding how to reference columns in Python.  \n",
    "Two possibilities:\n",
    "    - square bracket notation: `bank['Gender']`\n",
    "    - dot notation: `bank.Gender`\n",
    "\n",
    "Of these two, square bracket notation is slightly more flexible because it permits column names with spaces, e.g., `dataframe['column name']`.  \n",
    "The dot notation of this would fail because Python has no way of knowing what the space after \"column\" means: `dataframe.column name`.\n",
    "\n",
    "Once we know how to reference a column (or a \"Series\" in Pandas-speak), we can run the type conversion method and specify \"category\" as the output data type:"
   ]
  },
  {
   "cell_type": "code",
   "execution_count": null,
   "metadata": {
    "id": "hx57p4tIB98r"
   },
   "outputs": [],
   "source": [
    "#example: let's convert the gender column in the bank data as a categorical variable\n",
    "bank['Gender']"
   ]
  },
  {
   "cell_type": "code",
   "execution_count": null,
   "metadata": {
    "id": "l3DdSgwJB98r"
   },
   "outputs": [],
   "source": [
    "bank['Gender'].astype('category') # While it looks the same - see the last line!\n",
    "#python recognizes 2 categories!"
   ]
  },
  {
   "cell_type": "markdown",
   "metadata": {
    "id": "SAWeuZxFB98r"
   },
   "source": [
    "Running the command above just lists the converted values;\n",
    "We did not do anything to save it into the \"bank\" data frame.\n",
    "To replace the existing column in the data frame, we use the assignment operator:"
   ]
  },
  {
   "cell_type": "code",
   "execution_count": null,
   "metadata": {
    "id": "A8NTz51tB98r"
   },
   "outputs": [],
   "source": [
    "bank['Gender'] = bank['Gender'].astype('category')\n",
    "#This code no rewrites the Gender column as a category type!\n",
    "bank.info() # look at the Categorty column!"
   ]
  },
  {
   "cell_type": "code",
   "execution_count": null,
   "metadata": {
    "id": "f8KIZjodB98r"
   },
   "outputs": [],
   "source": [
    "#Now repeat the same for PCJob Column\n",
    "bank['PCJob']\n",
    "# Write down the command to convert this into a category!\n",
    "#bank['PCJob'] = ......"
   ]
  },
  {
   "cell_type": "markdown",
   "metadata": {
    "id": "wmp4cu2VB98r"
   },
   "source": [
    "- Note that you can get summary statistics for categorical data by using .describe() function\n",
    "    -- just put an (include='category') within the describe function!"
   ]
  },
  {
   "cell_type": "code",
   "execution_count": null,
   "metadata": {
    "id": "sTBuFs3mB98r"
   },
   "outputs": [],
   "source": [
    "bank.describe(include='category')"
   ]
  },
  {
   "cell_type": "markdown",
   "metadata": {
    "id": "RKyGbENiB98r"
   },
   "source": [
    "### Chapter 2: Data Operations: Filtering and Recoding"
   ]
  },
  {
   "cell_type": "markdown",
   "metadata": {
    "id": "TAYlKjAeB98r"
   },
   "source": [
    "#### Selection, Filtering, and Subsetting"
   ]
  },
  {
   "cell_type": "code",
   "execution_count": null,
   "metadata": {
    "id": "ESIjwddQB98r"
   },
   "outputs": [],
   "source": [
    "#We can select any column using its label:\n",
    "df['Artist']"
   ]
  },
  {
   "cell_type": "code",
   "execution_count": null,
   "metadata": {
    "id": "DFmTEwDeB98r"
   },
   "outputs": [],
   "source": [
    "# you can save this as a separate object or list!\n",
    "artist_list = df['Artist']\n",
    "artist_list"
   ]
  },
  {
   "cell_type": "code",
   "execution_count": null,
   "metadata": {
    "id": "DcEB-KJKB98r"
   },
   "outputs": [],
   "source": [
    "# We can select one or multiple rows using their numbers (inclusive of both bounding row numbers):\n",
    "# <dataframe>.loc[rows] does this\n",
    "df.loc[1:3]"
   ]
  },
  {
   "cell_type": "code",
   "execution_count": null,
   "metadata": {
    "id": "c4q9XwkMB98r"
   },
   "outputs": [],
   "source": [
    "# remember - everything in python begins with a 0\n",
    "# Call row 0 in the df dataframe!\n"
   ]
  },
  {
   "cell_type": "code",
   "execution_count": null,
   "metadata": {
    "id": "d9l6xa3TB98s"
   },
   "outputs": [],
   "source": [
    "# We can select any slice of the table using a both column label and row numbers using loc:\n",
    "# <dataframe>.loc[rows,['column(s)']] does this\n",
    "df.loc[1:3,['Artist']]"
   ]
  },
  {
   "cell_type": "code",
   "execution_count": null,
   "metadata": {
    "id": "qOInAWJfB98s"
   },
   "outputs": [],
   "source": [
    "# try this on the bank dataframe!\n",
    "# let's save all employee and Salary data for the first 10 rows!\n",
    "bank"
   ]
  },
  {
   "cell_type": "markdown",
   "metadata": {
    "id": "9l1MyDtvB98s"
   },
   "source": [
    "#### Filtering, and Subsetting"
   ]
  },
  {
   "cell_type": "markdown",
   "metadata": {
    "id": "hn-mFkrEB98s"
   },
   "source": [
    "Now it gets more interesting. We can easily filter rows using the values of a specific row.\n",
    "For example, here are our jazz musicians:"
   ]
  },
  {
   "cell_type": "code",
   "execution_count": null,
   "metadata": {
    "id": "F2CN6pGDB98t"
   },
   "outputs": [],
   "source": [
    "df[df['Genre'] == \"Jazz\" ]"
   ]
  },
  {
   "cell_type": "code",
   "execution_count": null,
   "metadata": {
    "id": "eEDKWBW2B98t"
   },
   "outputs": [],
   "source": [
    "bank['Gender'] == 'Female'\n",
    "# this expression only checks the conditional across all rows"
   ]
  },
  {
   "cell_type": "code",
   "execution_count": null,
   "metadata": {
    "id": "TbDXOdKrB98t"
   },
   "outputs": [],
   "source": [
    "# this on the other hand subsets or filters the dataframe based on the boolean check!\n",
    "bank[bank['Gender'] == \"Female\"]"
   ]
  },
  {
   "cell_type": "code",
   "execution_count": null,
   "metadata": {
    "id": "tVLx5SoIB98t"
   },
   "outputs": [],
   "source": [
    "# now let's filter and save as a different dataframe - male and female employees in the bank!\n",
    "bank_1 = bank[bank['Gender']==\"Male\"]\n",
    "bank_2 = bank[bank['Gender']!=\"Male\"] # or == \"Female\""
   ]
  },
  {
   "cell_type": "code",
   "execution_count": null,
   "metadata": {
    "id": "0u90OkZDB98t"
   },
   "outputs": [],
   "source": [
    "bank_1.describe(include='category')"
   ]
  },
  {
   "cell_type": "code",
   "execution_count": null,
   "metadata": {
    "id": "tVloiw7eB98t"
   },
   "outputs": [],
   "source": [
    "bank_2.describe(include='category')"
   ]
  },
  {
   "cell_type": "code",
   "execution_count": null,
   "metadata": {
    "id": "qh9fDzIHB98t"
   },
   "outputs": [],
   "source": [
    "# now back to the artist data set\n",
    "# Here are the artists who have more than 1,800,000 listeners:\n",
    "df[df['Listeners'] > 1800000 ]"
   ]
  },
  {
   "cell_type": "code",
   "execution_count": null,
   "metadata": {
    "id": "T3cKRAC4B98u"
   },
   "outputs": [],
   "source": [
    "# EXERCISE\n",
    "## let's filter bank dataset by employees with above median salary!\n"
   ]
  },
  {
   "cell_type": "markdown",
   "metadata": {
    "id": "F013ris9B98u"
   },
   "source": [
    "#### Grouping Function\n",
    "If you want to group multiple variables in a dataframe based on a categorical column, and run a function, this is the structure:\n",
    "<dataframe>.groupby('col').function\n"
   ]
  },
  {
   "cell_type": "code",
   "execution_count": null,
   "metadata": {
    "id": "VAZMU0_NB98u"
   },
   "outputs": [],
   "source": [
    "## what does this function do?\n",
    "df.groupby('Genre').sum()"
   ]
  },
  {
   "cell_type": "code",
   "execution_count": null,
   "metadata": {
    "id": "21WMLG47B98u"
   },
   "outputs": [],
   "source": [
    "# Exercise\n",
    "#. Repeat the same for grouping by Gender in bank data and calculating median Salary\n",
    "\n",
    "#e.g.,\n",
    "bank_1['Salary'].mean()"
   ]
  },
  {
   "cell_type": "code",
   "execution_count": null,
   "metadata": {
    "id": "lzp5yhLHB98u"
   },
   "outputs": [],
   "source": [
    "#. Repeat the same for grouping by PCJob in bank data and calculating median Salary"
   ]
  },
  {
   "cell_type": "code",
   "execution_count": null,
   "metadata": {
    "id": "P8hOr3TRB98u"
   },
   "outputs": [],
   "source": [
    "# complex filtering\n",
    "# what does this function do?\n",
    "bank[(bank['Gender'] == 'Female') & (bank['JobGrade'] == 1)].shape"
   ]
  },
  {
   "cell_type": "code",
   "execution_count": null,
   "metadata": {
    "id": "7y57DsErB98u"
   },
   "outputs": [],
   "source": [
    "# Exercise:\n",
    "# what does this function do?>\n",
    "mgmt = [4,5,6]\n",
    "bank[bank['JobGrade'].isin(mgmt)]"
   ]
  },
  {
   "cell_type": "markdown",
   "metadata": {
    "id": "RAOfResvB98v"
   },
   "source": [
    "#### Recoding Data"
   ]
  },
  {
   "cell_type": "markdown",
   "metadata": {
    "id": "cen6eK-aB98v"
   },
   "source": [
    "Appending or adding columns"
   ]
  },
  {
   "cell_type": "code",
   "execution_count": null,
   "metadata": {
    "id": "sxPyS59OB98v"
   },
   "outputs": [],
   "source": [
    "# let's add a new column called “Dummy” and set every value in the series to zero.\n",
    "bank['Dummy'] = 0\n",
    "bank.head()"
   ]
  },
  {
   "cell_type": "markdown",
   "metadata": {
    "id": "Hdh6UsSYB98v"
   },
   "source": [
    "Now let's drop this column! coz it's useless\n",
    "Like many functions in Pandas, drop requires an axis argument (where 0=row and 1=column).\n",
    "The inplace = True argument is also common in Pandas: it is equivalent to bank = bank.drop(...).\n",
    "That is, it ensures the changes are not part of a new data frame but are written back to the original data frame."
   ]
  },
  {
   "cell_type": "code",
   "execution_count": null,
   "metadata": {
    "id": "hpfqVCKSB98v"
   },
   "outputs": [],
   "source": [
    "bank.drop('Dummy', axis=1, inplace=True)\n",
    "bank.head()"
   ]
  },
  {
   "cell_type": "code",
   "execution_count": null,
   "metadata": {
    "id": "I_ASaBaLB98v"
   },
   "outputs": [],
   "source": []
  }
 ],
 "metadata": {
  "colab": {
   "provenance": []
  },
  "kernelspec": {
   "display_name": "Python 3 (ipykernel)",
   "language": "python",
   "name": "python3"
  },
  "language_info": {
   "codemirror_mode": {
    "name": "ipython",
    "version": 3
   },
   "file_extension": ".py",
   "mimetype": "text/x-python",
   "name": "python",
   "nbconvert_exporter": "python",
   "pygments_lexer": "ipython3",
   "version": "3.10.9"
  }
 },
 "nbformat": 4,
 "nbformat_minor": 4
}
