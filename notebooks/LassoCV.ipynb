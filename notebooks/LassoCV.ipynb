{
 "cells": [
  {
   "cell_type": "code",
   "execution_count": 1,
   "id": "1e010563-7f59-4285-bb8b-dddf1b021d04",
   "metadata": {},
   "outputs": [
    {
     "name": "stderr",
     "output_type": "stream",
     "text": [
      "C:\\ProgramData\\Anaconda3\\lib\\site-packages\\scipy\\__init__.py:138: UserWarning: A NumPy version >=1.16.5 and <1.23.0 is required for this version of SciPy (detected version 1.24.4)\n",
      "  warnings.warn(f\"A NumPy version >={np_minversion} and <{np_maxversion} is required for this version of \"\n"
     ]
    },
    {
     "name": "stdout",
     "output_type": "stream",
     "text": [
      "Best alpha using built-in LassoCV: 0.009444\n",
      "Best score using built-in LassoCV: 0.953236\n",
      "LassoCV coefficients: [1.79701555]\n",
      "LassoCV intercept: 4.797536545076616\n",
      "Prediction for [9] is 20.970676469209266\n"
     ]
    },
    {
     "data": {
      "image/png": "[encoded data removed]",
      "text/plain": [
       "<Figure size 432x288 with 1 Axes>"
      ]
     },
     "metadata": {
      "needs_background": "light"
     },
     "output_type": "display_data"
    }
   ],
   "source": [
    "import numpy as np\n",
    "from sklearn.linear_model import LassoCV\n",
    "import matplotlib.pyplot as plt\n",
    "\n",
    "# Set a random seed for reproducibility\n",
    "np.random.seed(0)\n",
    "\n",
    "X = np.array([[1], [2], [3], [4], [5], [6], [7], [8]])\n",
    "# y = 2 * x + 3 + noise\n",
    "y = np.dot(X, np.array([2])) + 3 + np.random.normal(0, 1, len(X))\n",
    "# Create a LassoCV model and fit it to the data\n",
    "reg = LassoCV(cv=5, random_state=0)  # you can adjust the number of folds (cv) as needed\n",
    "reg.fit(X, y)\n",
    "\n",
    "print(\"Best alpha using built-in LassoCV: %f\" % reg.alpha_)\n",
    "print(\"Best score using built-in LassoCV: %f\" %reg.score(X,y))\n",
    "print(\"LassoCV coefficients:\", reg.coef_)\n",
    "print(\"LassoCV intercept:\", reg.intercept_)\n",
    "\n",
    "# Predicting for a new data point\n",
    "new_point = np.array([[9]])\n",
    "prediction = reg.predict(new_point)\n",
    "print(f'Prediction for {new_point[0]} is {prediction[0]}')\n",
    "\n",
    "# Plotting the original data points\n",
    "plt.scatter(X[:, 0], y, color='blue', label='Original data')\n",
    "\n",
    "# Plotting the regression line\n",
    "x_range = np.linspace(min(X[:, 0]), max(X[:, 0]), num=100)\n",
    "y_range = reg.coef_[0]*x_range + reg.intercept_\n",
    "plt.plot(x_range, y_range, color='red', label='Lasso regression line')\n",
    "\n",
    "# Plotting the predicted data point\n",
    "plt.scatter(new_point[:, 0], prediction, color='green', label='Predicted data')\n",
    "\n",
    "plt.title('Lasso Regression')\n",
    "plt.xlabel('X')\n",
    "plt.ylabel('y')\n",
    "plt.legend()\n",
    "plt.show()"
   ]
  },
  {
   "cell_type": "code",
   "execution_count": null,
   "id": "11d79ab0-79d2-4cd1-8f5f-90cd173fc3af",
   "metadata": {},
   "outputs": [],
   "source": []
  }
 ],
 "metadata": {
  "kernelspec": {
   "display_name": "Python 3 (ipykernel)",
   "language": "python",
   "name": "python3"
  },
  "language_info": {
   "codemirror_mode": {
    "name": "ipython",
    "version": 3
   },
   "file_extension": ".py",
   "mimetype": "text/x-python",
   "name": "python",
   "nbconvert_exporter": "python",
   "pygments_lexer": "ipython3",
   "version": "3.8.8"
  }
 },
 "nbformat": 4,
 "nbformat_minor": 5
}
